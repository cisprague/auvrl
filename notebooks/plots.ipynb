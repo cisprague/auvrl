{
 "cells": [
  {
   "cell_type": "code",
   "execution_count": 1,
   "metadata": {},
   "outputs": [
    {
     "name": "stdout",
     "output_type": "stream",
     "text": [
      "Using matplotlib backend: TkAgg\n"
     ]
    }
   ],
   "source": [
    "import numpy as np\n",
    "import matplotlib.pyplot as plt\n",
    "%matplotlib"
   ]
  },
  {
   "cell_type": "code",
   "execution_count": 2,
   "metadata": {},
   "outputs": [],
   "source": [
    "# rf1\n",
    "rf1r = [\n",
    "    np.load(\"../src/results0/data/empty_rewards.npy\"),\n",
    "    np.load(\"../src/results0/data/fewlarge_rewards.npy\"),\n",
    "    np.load(\"../src/results0/data/manysmall_rewards.npy\")\n",
    "]\n",
    "rf1q = [\n",
    "    np.load(\"../src/results0/data/empty_qvals.npy\"),\n",
    "    np.load(\"../src/results0/data/fewlarge_qvals.npy\"),\n",
    "    np.load(\"../src/results0/data/manysmall_qvals.npy\")\n",
    "]\n",
    "rf1t = [\n",
    "    None,\n",
    "    None,\n",
    "    np.load(\"../src/results0/data/manysmall_traj.npy\")\n",
    "]"
   ]
  },
  {
   "cell_type": "code",
   "execution_count": 3,
   "metadata": {},
   "outputs": [],
   "source": [
    "# rf2\n",
    "rf2r = [\n",
    "    np.load(\"../src/results1/data/empty_rewards.npy\"),\n",
    "    np.load(\"../src/results1/data/fewlarge_rewards.npy\"),\n",
    "    np.load(\"../src/results1/data/manysmall_rewards.npy\")\n",
    "]\n",
    "rf2q = [\n",
    "    np.load(\"../src/results1/data/empty_qvals.npy\"),\n",
    "    np.load(\"../src/results1/data/fewlarge_qvals.npy\"),\n",
    "    np.load(\"../src/results1/data/manysmall_qvals.npy\")\n",
    "]\n",
    "rf2t = [\n",
    "    np.load(\"../src/results1/data/empty_traj.npy\"),\n",
    "    np.load(\"../src/results1/data/fewlarge_traj.npy\"),\n",
    "    np.load(\"../src/results1/data/manysmall_traj.npy\")\n",
    "]"
   ]
  },
  {
   "cell_type": "code",
   "execution_count": 4,
   "metadata": {},
   "outputs": [],
   "source": [
    "# rf3\n",
    "rf3r = [\n",
    "    np.load(\"../src/results2/data/empty_rewards.npy\"),\n",
    "    np.load(\"../src/results2/data/fewlarge_rewards.npy\"),\n",
    "    np.load(\"../src/results2/data/manysmall_rewards.npy\")\n",
    "]\n",
    "rf3q = [\n",
    "    np.load(\"../src/results2/data/empty_qvals.npy\"),\n",
    "    np.load(\"../src/results2/data/fewlarge_qvals.npy\"),\n",
    "    np.load(\"../src/results2/data/manysmall_qvals.npy\")\n",
    "]\n",
    "rf3t = [\n",
    "    np.load(\"../src/results2/data/empty_traj.npy\"),\n",
    "    np.load(\"../src/results2/data/fewlarge_traj.npy\"),\n",
    "    np.load(\"../src/results2/data/manysmall_traj.npy\")\n",
    "]"
   ]
  },
  {
   "cell_type": "code",
   "execution_count": 5,
   "metadata": {},
   "outputs": [],
   "source": [
    "# rf4\n",
    "rf4r = [\n",
    "    np.load(\"../src/results3/data/empty_rewards.npy\"),\n",
    "    np.load(\"../src/results3/data/fewlarge_rewards.npy\"),\n",
    "    np.load(\"../src/results3/data/manysmall_rewards.npy\")\n",
    "]\n",
    "rf4q = [\n",
    "    np.load(\"../src/results3/data/empty_qvals.npy\"),\n",
    "    np.load(\"../src/results3/data/fewlarge_qvals.npy\"),\n",
    "    np.load(\"../src/results3/data/manysmall_qvals.npy\")\n",
    "]\n",
    "rf4t = [\n",
    "    #np.load(\"../src/results3/data/empty_traj.npy\"),\n",
    "    #np.load(\"../src/results3/data/fewlarge_traj.npy\"),\n",
    "    #np.load(\"../src/results3/data/manysmall_traj.npy\")\n",
    "]"
   ]
  },
  {
   "cell_type": "code",
   "execution_count": null,
   "metadata": {},
   "outputs": [],
   "source": [
    "fig, axes = plt.subplots(3, figsize=(8, 6))\n",
    "\n",
    "fig.text(0.02, 0.5, 'Running Average Reward', va='center', rotation='vertical')\n",
    "\n",
    "for ax, r, q in zip(axes, rf1r, rf1q):\n",
    "    ax.plot(np.cumsum(r)/np.arange(1, len(r) + 1, 1) , \"k-\")\n",
    "plt.xlabel(\"Episode Index\")\n",
    "\n",
    "plt.savefig(\"rf1r.pdf\", dpi=None, facecolor='w', edgecolor='w',\n",
    "        orientation='portrait', papertype=None, format=\"pdf\",\n",
    "        transparent=True, bbox_inches=\"tight\")\n",
    "\n",
    "plt.show()\n",
    "\n",
    "fig, axes = plt.subplots(3, figsize=(8, 6))\n",
    "\n",
    "fig.text(0.02, 0.5, 'Q-Value', va='center', rotation='vertical')\n",
    "\n",
    "for ax, r, q in zip(axes, rf1r, rf1q):\n",
    "    ax.plot(q, \"k-\")\n",
    "plt.xlabel(\"Episode Index\")\n",
    "\n",
    "plt.savefig(\"rf1q.pdf\", dpi=None, facecolor='w', edgecolor='w',\n",
    "        orientation='portrait', papertype=None, format=\"pdf\",\n",
    "        transparent=True, bbox_inches=\"tight\")\n",
    "\n",
    "plt.show()"
   ]
  },
  {
   "cell_type": "code",
   "execution_count": null,
   "metadata": {},
   "outputs": [],
   "source": [
    "fig, axes = plt.subplots(3, figsize=(8, 6))\n",
    "\n",
    "fig.text(0.02, 0.5, 'Running Average Reward', va='center', rotation='vertical')\n",
    "\n",
    "for ax, r, q in zip(axes, rf2r, rf2q):\n",
    "    ax.plot(np.cumsum(r)/np.arange(1, len(r) + 1, 1) , \"k-\")\n",
    "plt.xlabel(\"Episode Index\")\n",
    "\n",
    "plt.savefig(\"rf2r.pdf\", dpi=None, facecolor='w', edgecolor='w',\n",
    "        orientation='portrait', papertype=None, format=\"pdf\",\n",
    "        transparent=True, bbox_inches=\"tight\")\n",
    "\n",
    "plt.show()\n",
    "\n",
    "fig, axes = plt.subplots(3, figsize=(8, 6))\n",
    "\n",
    "fig.text(0.02, 0.5, 'Q-Value', va='center', rotation='vertical')\n",
    "\n",
    "for ax, r, q in zip(axes, rf2r, rf2q):\n",
    "    ax.plot(q, \"k-\")\n",
    "plt.xlabel(\"Episode Index\")\n",
    "\n",
    "plt.savefig(\"rf2q.pdf\", dpi=None, facecolor='w', edgecolor='w',\n",
    "        orientation='portrait', papertype=None, format=\"pdf\",\n",
    "        transparent=True, bbox_inches=\"tight\")\n",
    "\n",
    "plt.show()"
   ]
  },
  {
   "cell_type": "code",
   "execution_count": null,
   "metadata": {},
   "outputs": [],
   "source": [
    "fig, axes = plt.subplots(3, figsize=(8, 6))\n",
    "\n",
    "fig.text(0.02, 0.5, 'Running Average Reward', va='center', rotation='vertical')\n",
    "\n",
    "for ax, r, q in zip(axes, rf3r, rf3q):\n",
    "    ax.plot(np.cumsum(r)/np.arange(1, len(r) + 1, 1) , \"k-\")\n",
    "plt.xlabel(\"Episode Index\")\n",
    "\n",
    "plt.savefig(\"rf3r.pdf\", dpi=None, facecolor='w', edgecolor='w',\n",
    "        orientation='portrait', papertype=None, format=\"pdf\",\n",
    "        transparent=True, bbox_inches=\"tight\")\n",
    "\n",
    "plt.show()\n",
    "\n",
    "fig, axes = plt.subplots(3, figsize=(8, 6))\n",
    "\n",
    "fig.text(0.02, 0.5, 'Q-Value', va='center', rotation='vertical')\n",
    "\n",
    "for ax, r, q in zip(axes, rf3r, rf3q):\n",
    "    ax.plot(q, \"k-\")\n",
    "plt.xlabel(\"Episode Index\")\n",
    "\n",
    "plt.savefig(\"rf3q.pdf\", dpi=None, facecolor='w', edgecolor='w',\n",
    "        orientation='portrait', papertype=None, format=\"pdf\",\n",
    "        transparent=True, bbox_inches=\"tight\")\n",
    "\n",
    "plt.show()"
   ]
  },
  {
   "cell_type": "code",
   "execution_count": null,
   "metadata": {},
   "outputs": [],
   "source": [
    "fig, axes = plt.subplots(3, figsize=(8, 6))\n",
    "\n",
    "fig.text(0.02, 0.5, 'Running Average Reward', va='center', rotation='vertical')\n",
    "\n",
    "for ax, r, q in zip(axes, rf4r, rf4q):\n",
    "    ax.plot(np.cumsum(r)/np.arange(1, len(r) + 1, 1) , \"k-\")\n",
    "plt.xlabel(\"Episode Index\")\n",
    "\n",
    "plt.savefig(\"rf4r.pdf\", dpi=None, facecolor='w', edgecolor='w',\n",
    "        orientation='portrait', papertype=None, format=\"pdf\",\n",
    "        transparent=True, bbox_inches=\"tight\")\n",
    "\n",
    "plt.show()\n",
    "\n",
    "fig, axes = plt.subplots(3, figsize=(8, 6))\n",
    "\n",
    "fig.text(0.02, 0.5, 'Q-Value', va='center', rotation='vertical')\n",
    "\n",
    "for ax, r, q in zip(axes, rf4r, rf4q):\n",
    "    ax.plot(q, \"k-\")\n",
    "plt.xlabel(\"Episode Index\")\n",
    "\n",
    "plt.savefig(\"rf4q.pdf\", dpi=None, facecolor='w', edgecolor='w',\n",
    "        orientation='portrait', papertype=None, format=\"pdf\",\n",
    "        transparent=True, bbox_inches=\"tight\")\n",
    "\n",
    "plt.show()"
   ]
  },
  {
   "cell_type": "code",
   "execution_count": null,
   "metadata": {},
   "outputs": [],
   "source": [
    "fig, axes = plt.subplots(3, figsize=(8, 6))\n",
    "\n",
    "fig.text(0.02, 0.5, 'Running Average Reward', va='center', rotation='vertical')\n",
    "\n",
    "for ax, r, q in zip(axes, rf4r, rf4q):\n",
    "    ax.plot(np.cumsum(r)/np.arange(1, len(r) + 1, 1) , \"k-\")\n",
    "plt.xlabel(\"Episode Index\")\n",
    "\n",
    "plt.savefig(\"rf4r.pdf\", dpi=None, facecolor='w', edgecolor='w',\n",
    "        orientation='portrait', papertype=None, format=\"pdf\",\n",
    "        transparent=True, bbox_inches=\"tight\")\n",
    "\n",
    "plt.show()\n",
    "\n",
    "fig, axes = plt.subplots(3, figsize=(8, 6))\n",
    "\n",
    "fig.text(0.02, 0.5, 'Q-Value', va='center', rotation='vertical')\n",
    "\n",
    "for ax, r, q in zip(axes, rf4r, rf4q):\n",
    "    ax.plot(q, \"k-\")\n",
    "plt.xlabel(\"Episode Index\")\n",
    "\n",
    "plt.savefig(\"rf4q.pdf\", dpi=None, facecolor='w', edgecolor='w',\n",
    "        orientation='portrait', papertype=None, format=\"pdf\",\n",
    "        transparent=True, bbox_inches=\"tight\")\n",
    "\n",
    "plt.show()"
   ]
  },
  {
   "cell_type": "code",
   "execution_count": 6,
   "metadata": {},
   "outputs": [
    {
     "data": {
      "image/png": "[encoded data removed]",
      "text/plain": [
       "<Figure size 576x360 with 6 Axes>"
      ]
     },
     "metadata": {},
     "output_type": "display_data"
    }
   ],
   "source": [
    "fig, axes = plt.subplots(3, 2, figsize=(8, 5))\n",
    "\n",
    "alpha = 0.1\n",
    "\n",
    "\n",
    "\n",
    "for ep in rf2t[0]:\n",
    "    axes[0, 1].plot(ep[:, 14], ep[:, 13], \"k.\", alpha=alpha)\n",
    "for ep in rf2t[1]:\n",
    "    axes[1, 1].plot(ep[:, 14], ep[:, 13], \"k.\", alpha=alpha)\n",
    "for ep in rf2t[2]:\n",
    "    axes[2, 1].plot(ep[:, 14], ep[:, 13], \"k.\", alpha=alpha)\n",
    "    \n",
    "for ep in rf3t[0]:\n",
    "    axes[0, 1].plot(ep[:, 14], ep[:, 13], \"k.\", alpha=alpha)\n",
    "for ep in rf3t[1]:\n",
    "    axes[1, 1].plot(ep[:, 14], ep[:, 13], \"k.\", alpha=alpha)\n",
    "for ep in rf3t[2]:\n",
    "    axes[2, 1].plot(ep[:, 14], ep[:, 13], \"k.\", alpha=alpha)\n",
    "    \n",
    "'''for ep in rf1t[2]:\n",
    "    axes[2, 1].plot(ep[:, 14], ep[:, 13], \"k.\", alpha=alpha)\n",
    "for ep in rf1t[2]:\n",
    "    axes[2, 0].plot(ep[:, 14], ep[:, 12], \"k.\", alpha=alpha)'''\n",
    "\n",
    "for ep in rf2t[0]:\n",
    "    axes[0, 0].plot(ep[:, 14], ep[:, 12], \"k.\", alpha=alpha)\n",
    "for ep in rf2t[1]:\n",
    "    axes[1, 0].plot(ep[:, 14], ep[:, 12], \"k.\", alpha=alpha)\n",
    "for ep in rf2t[2]:\n",
    "    axes[2, 0].plot(ep[:, 14], ep[:, 12], \"k.\", alpha=alpha)\n",
    "    \n",
    "for ep in rf3t[0]:\n",
    "    axes[0, 0].plot(ep[:, 14], ep[:, 12], \"k.\", alpha=alpha)\n",
    "for ep in rf3t[1]:\n",
    "    axes[1, 0].plot(ep[:, 14], ep[:, 12], \"k.\", alpha=alpha)\n",
    "for ep in rf3t[2]:\n",
    "    axes[2, 0].plot(ep[:, 14], ep[:, 12], \"k.\", alpha=alpha)\n",
    "    \n",
    "    \n",
    "    \n",
    "plt.show()"
   ]
  },
  {
   "cell_type": "code",
   "execution_count": 7,
   "metadata": {},
   "outputs": [],
   "source": [
    "import seaborn as sns"
   ]
  },
  {
   "cell_type": "code",
   "execution_count": 8,
   "metadata": {},
   "outputs": [],
   "source": [
    "et = np.vstack((np.vstack(rf2t[0]), np.vstack(rf3t[0])))\n",
    "flt = np.vstack((np.vstack(rf2t[1]), np.vstack(rf3t[1])))\n",
    "mst = np.vstack((np.vstack(rf1t[2]), np.vstack(rf2t[2]), np.vstack(rf3t[2])))"
   ]
  },
  {
   "cell_type": "code",
   "execution_count": 27,
   "metadata": {},
   "outputs": [
    {
     "data": {
      "image/png": "[encoded data removed]",
      "text/plain": [
       "<Figure size 432x288 with 6 Axes>"
      ]
     },
     "metadata": {},
     "output_type": "display_data"
    }
   ],
   "source": [
    "fig, axes = plt.subplots(3, 2, sharex=True)\n",
    "sns.kdeplot(et[:, 12], ax=axes[0,0], color=\"black\", shade=True)\n",
    "sns.kdeplot(et[:, 13], ax=axes[0,1], color=\"black\", shade=True)\n",
    "sns.kdeplot(flt[:, 12], ax=axes[1,0], color=\"black\", shade=True)\n",
    "sns.kdeplot(flt[:, 13], ax=axes[1,1], color=\"black\", shade=True)\n",
    "sns.kdeplot(mst[:, 12], ax=axes[2,0], color=\"black\", shade=True)\n",
    "sns.kdeplot(mst[:, 13], ax=axes[2,1], color=\"black\", shade=True)\n",
    "\n",
    "axes[0, 1].set_ylabel(\"Empty\", rotation=0, labelpad=20)\n",
    "axes[0,1].yaxis.set_label_position(\"right\")\n",
    "\n",
    "axes[1, 1].set_ylabel(\"Few Large\", rotation=0, labelpad=30)\n",
    "axes[1,1].yaxis.set_label_position(\"right\")\n",
    "\n",
    "axes[2, 1].set_ylabel(\"Many Small\", rotation=0, labelpad=35)\n",
    "axes[2,1].yaxis.set_label_position(\"right\")\n",
    "\n",
    "axes[2, 0].set_xlabel(\"Parameterised Thrust Angle\")\n",
    "axes[2, 1].set_xlabel(\"Parameterised Thrust Power\")\n",
    "\n",
    "fig.text(0.02, 0.5, 'Probability Distribution', va='center', rotation='vertical')\n",
    "\n",
    "plt.savefig(\"actions.pdf\", dpi=None, facecolor='w', edgecolor='w',\n",
    "        orientation='portrait', papertype=None, format=\"pdf\",\n",
    "        transparent=True, bbox_inches=\"tight\")\n",
    "\n",
    "plt.show()\n"
   ]
  },
  {
   "cell_type": "code",
   "execution_count": null,
   "metadata": {},
   "outputs": [],
   "source": []
  }
 ],
 "metadata": {
  "kernelspec": {
   "display_name": "Python 3",
   "language": "python",
   "name": "python3"
  },
  "language_info": {
   "codemirror_mode": {
    "name": "ipython",
    "version": 3
   },
   "file_extension": ".py",
   "mimetype": "text/x-python",
   "name": "python",
   "nbconvert_exporter": "python",
   "pygments_lexer": "ipython3",
   "version": "3.5.2"
  }
 },
 "nbformat": 4,
 "nbformat_minor": 2
}
