{
 "cells": [
  {
   "cell_type": "code",
   "execution_count": 1,
   "metadata": {},
   "outputs": [
    {
     "name": "stdout",
     "output_type": "stream",
     "text": [
      "Using matplotlib backend: TkAgg\n"
     ]
    }
   ],
   "source": [
    "import numpy as np\n",
    "import matplotlib.pyplot as plt\n",
    "%matplotlib"
   ]
  },
  {
   "cell_type": "code",
   "execution_count": 16,
   "metadata": {},
   "outputs": [],
   "source": [
    "# reward function 1\n",
    "r1t = lambda x: 1 - x\n",
    "r1w = lambda x: -x\n",
    "r1u = lambda x: -x\n",
    "\n",
    "# reward function 2\n",
    "r2t = r1t\n",
    "r2o = lambda x: x - 1\n",
    "r2w = r1w\n",
    "r2u = r1u\n",
    "\n",
    "# reward function 3\n",
    "r3t = lambda x: 1 / np.exp(x)\n",
    "r3o = lambda x: -1 /np.exp(x)\n",
    "r3w = lambda x: -x**2\n",
    "r3u = lambda x: -x**2\n",
    "\n",
    "# data points\n",
    "x = np.linspace(0, 1, 500)"
   ]
  },
  {
   "cell_type": "code",
   "execution_count": 54,
   "metadata": {},
   "outputs": [
    {
     "name": "stderr",
     "output_type": "stream",
     "text": [
      "/usr/local/lib/python3.5/dist-packages/matplotlib/legend.py:652: UserWarning: Automatic legend placement (loc=\"best\") not implemented for figure legend. Falling back on \"upper right\".\n",
      "  warnings.warn('Automatic legend placement (loc=\"best\") not '\n"
     ]
    }
   ],
   "source": [
    "# plots\n",
    "fig, ax = plt.subplots(3, sharex=True, sharey=True)\n",
    "\n",
    "# number of marks\n",
    "dashes = (4, 7)\n",
    "color=\"0.5\"\n",
    "\n",
    "# rf1\n",
    "ax[0].plot(x, r1t(x), \"k-\")\n",
    "ax[0].plot(x, r1w(x), \"k-\", color=color)\n",
    "ax[0].plot(x, r1u(x), \"k--\", dashes=dashes)\n",
    "ax[0].set_ylabel(\"Reward\")\n",
    "ax[0].set_title(\"$R_{1}$\")\n",
    "\n",
    "# rf2\n",
    "ax[1].plot(x, r2t(x), \"k-\")\n",
    "ax[1].plot(x, r2o(x), \"k-.\")\n",
    "ax[1].plot(x, r2w(x), \"k-\", color=color)\n",
    "ax[1].plot(x, r2u(x), \"k--\", dashes=dashes)\n",
    "ax[1].set_ylabel(\"Reward\")\n",
    "ax[1].set_title(\"$R_{2}$\")\n",
    "\n",
    "# rf3\n",
    "l1, = ax[2].plot(x, r3t(x), \"k-\")\n",
    "l2, = ax[2].plot(x, r3o(x), \"k-.\")\n",
    "l3, = ax[2].plot(x, r3w(x), \"k-\", color=color)\n",
    "l4, = ax[2].plot(x, r3u(x), \"k--\", dashes=dashes)\n",
    "ax[2].set_xlabel(\"Normalised Metric\")\n",
    "ax[2].set_ylabel(\"Reward\")\n",
    "ax[2].set_title(\"$R_{3}$\")\n",
    "\n",
    "fig.legend((l1, l2, l3, l4), (\"$r(d)$\", \"$r(d_n)$\", \"$r(\\omega)$\", \"$r(u)$\"), \"best\")\n",
    "fig.tight_layout()\n",
    "\n",
    "plt.savefig(\"rewards.pdf\", dpi=None, facecolor='w', edgecolor='w',\n",
    "        orientation='portrait', papertype=None, format=\"pdf\",\n",
    "        transparent=True, bbox_inches=\"tight\")\n",
    "\n",
    "plt.show()"
   ]
  },
  {
   "cell_type": "code",
   "execution_count": null,
   "metadata": {},
   "outputs": [],
   "source": []
  },
  {
   "cell_type": "code",
   "execution_count": null,
   "metadata": {},
   "outputs": [],
   "source": [
    "# reward characterisation\n",
    "r_inv = lambda x: 1 - x\n",
    "r_obs = lambda x: x - 1\n",
    "r_nsq = lambda x: -x\n",
    "\n",
    "# normalised metrics\n",
    "npts = 400\n",
    "pts = np.linspace(0, 10, npts)\n",
    "ppts = np.linspace(0, 1, npts)"
   ]
  },
  {
   "cell_type": "code",
   "execution_count": null,
   "metadata": {},
   "outputs": [],
   "source": [
    "# plotting\n",
    "plt.figure()\n",
    "\n",
    "plt.plot(pts, r_inv(pts), \"k--\")\n",
    "plt.plot(pts, r_obs(pts), \"k-.\")\n",
    "plt.plot(pts, r_nsq(pts), \"k-\")\n",
    "\n",
    "plt.legend([\"$r(d)$\", \"$r(d_n)$\", \"$r(\\omega)$ \\n$r(u)$\"])\n",
    "plt.ylabel(\"Reward\")\n",
    "plt.xlabel(\"Normalised metric\")\n",
    "plt.ylim(-np.e, np.e)\n",
    "plt.xlim(0, 1)\n",
    "plt.ylim(-1, 1)\n",
    "\n",
    "\n",
    "plt.savefig(\"rewards.pdf\", dpi=None, facecolor='w', edgecolor='w',\n",
    "        orientation='portrait', papertype=None, format=\"pdf\",\n",
    "        transparent=True, bbox_inches=\"tight\")\n",
    "\n",
    "\n",
    "\n",
    "plt.show()"
   ]
  },
  {
   "cell_type": "code",
   "execution_count": null,
   "metadata": {},
   "outputs": [],
   "source": [
    "len([])"
   ]
  },
  {
   "cell_type": "code",
   "execution_count": null,
   "metadata": {},
   "outputs": [],
   "source": [
    "traj =np.load(\"../src/results1/data/manysmall_traj.npy\")"
   ]
  },
  {
   "cell_type": "code",
   "execution_count": null,
   "metadata": {},
   "outputs": [],
   "source": [
    "plt.plot(traj[0][:, 4])\n",
    "plt.show()"
   ]
  },
  {
   "cell_type": "code",
   "execution_count": null,
   "metadata": {},
   "outputs": [],
   "source": [
    "1 / 0"
   ]
  },
  {
   "cell_type": "code",
   "execution_count": null,
   "metadata": {},
   "outputs": [],
   "source": []
  }
 ],
 "metadata": {
  "kernelspec": {
   "display_name": "Python 3",
   "language": "python",
   "name": "python3"
  },
  "language_info": {
   "codemirror_mode": {
    "name": "ipython",
    "version": 3
   },
   "file_extension": ".py",
   "mimetype": "text/x-python",
   "name": "python",
   "nbconvert_exporter": "python",
   "pygments_lexer": "ipython3",
   "version": "3.5.2"
  }
 },
 "nbformat": 4,
 "nbformat_minor": 2
}
