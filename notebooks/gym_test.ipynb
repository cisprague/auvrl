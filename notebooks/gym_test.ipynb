{
 "cells": [
  {
   "cell_type": "code",
   "execution_count": null,
   "metadata": {},
   "outputs": [],
   "source": [
    "import sys\n",
    "sys.path.append(\"../src/\")\n",
    "from auv_gym_env import Environment\n",
    "import matplotlib.pyplot as plt\n",
    "import numpy as np"
   ]
  },
  {
   "cell_type": "code",
   "execution_count": null,
   "metadata": {},
   "outputs": [],
   "source": [
    "# instantiate environment\n",
    "world_size = 50\n",
    "gravity = -1\n",
    "xinit, yinit = 10, 10\n",
    "targetx, targety = 0, 0\n",
    "env = Environment(world_size, gravity, xinit, yinit, targetx, targety)\n",
    "env.render()\n",
    "rewards = list()"
   ]
  },
  {
   "cell_type": "code",
   "execution_count": null,
   "metadata": {},
   "outputs": [],
   "source": [
    "# control AUV with constant thrust angle and power\n",
    "nframes = 10000\n",
    "for frame in range(nframes):\n",
    "    obs, reward, done, info = env.step((\n",
    "        np.random.uniform(*env.auv._thruster_angle_limits), \n",
    "        np.random.uniform(0, env.auv._thruster_limit)\n",
    "    ))\n",
    "    env.render()\n",
    "    print(reward)\n",
    "    rewards.append(reward)"
   ]
  },
  {
   "cell_type": "code",
   "execution_count": null,
   "metadata": {},
   "outputs": [],
   "source": [
    "# plot instantaneous reward sequence\n",
    "plt.figure()\n",
    "plt.plot(rewards, \"k.\")\n",
    "plt.plot(np.cumsum(rewards), \"k--\")\n",
    "plt.yscale('log')\n",
    "plt.xscale('log')\n",
    "plt.ylabel('Reward $r$')\n",
    "plt.xlabel('Time Index')\n",
    "plt.legend(['Instantaneous Reward', 'Cummulative Reward'])\n",
    "plt.show()"
   ]
  },
  {
   "cell_type": "code",
   "execution_count": null,
   "metadata": {},
   "outputs": [],
   "source": [
    "env.reset()"
   ]
  },
  {
   "cell_type": "code",
   "execution_count": null,
   "metadata": {},
   "outputs": [],
   "source": []
  }
 ],
 "metadata": {
  "kernelspec": {
   "display_name": "Python 3",
   "language": "python",
   "name": "python3"
  },
  "language_info": {
   "codemirror_mode": {
    "name": "ipython",
    "version": 3
   },
   "file_extension": ".py",
   "mimetype": "text/x-python",
   "name": "python",
   "nbconvert_exporter": "python",
   "pygments_lexer": "ipython3",
   "version": "3.5.2"
  }
 },
 "nbformat": 4,
 "nbformat_minor": 2
}
