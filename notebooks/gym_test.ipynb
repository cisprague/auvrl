{
 "cells": [
  {
   "cell_type": "code",
   "execution_count": 1,
   "metadata": {},
   "outputs": [
    {
     "name": "stdout",
     "output_type": "stream",
     "text": [
      "Using matplotlib backend: TkAgg\n"
     ]
    }
   ],
   "source": [
    "import sys\n",
    "sys.path.append(\"../src/\")\n",
    "from auv_gym_env import Environment\n",
    "import matplotlib.pyplot as plt\n",
    "import numpy as np\n",
    "%matplotlib"
   ]
  },
  {
   "cell_type": "code",
   "execution_count": null,
   "metadata": {},
   "outputs": [],
   "source": [
    "# instantiate environment\n",
    "world_size = 50\n",
    "gravity = -1\n",
    "xinit, yinit = 10, 10\n",
    "targetx, targety = 0, 0\n",
    "env = Environment(world_size, gravity, 20, 2, 2,  xinit, yinit, targetx, targety)\n",
    "env.render()\n",
    "rewards = list()"
   ]
  },
  {
   "cell_type": "code",
   "execution_count": null,
   "metadata": {},
   "outputs": [],
   "source": [
    "# control AUV with constant thrust angle and power\n",
    "nframes = 10000\n",
    "for frame in range(nframes):\n",
    "    obs, reward, done, info = env.step((\n",
    "        np.random.uniform(*env.auv._thruster_angle_limits), \n",
    "        np.random.uniform(0, 50)\n",
    "    ))\n",
    "    #env.render()\n",
    "    #print(reward)\n",
    "    rewards.append(reward)"
   ]
  },
  {
   "cell_type": "code",
   "execution_count": null,
   "metadata": {},
   "outputs": [],
   "source": [
    "# plot instantaneous reward sequence\n",
    "plt.figure()\n",
    "plt.plot(rewards, \"kx\")\n",
    "plt.plot(np.cumsum(rewards), \"k--\")\n",
    "plt.plot(np.divide(np.cumsum(rewards), np.linspace(1, len(rewards), len(rewards))), \"k-\")\n",
    "plt.yscale('log')\n",
    "#plt.xscale('log')\n",
    "plt.ylabel('Reward $r$')\n",
    "plt.xlabel('Time Index')\n",
    "plt.legend(['Instantaneous', 'Cummulative', \"Running Average\"])\n",
    "plt.show()"
   ]
  },
  {
   "cell_type": "code",
   "execution_count": null,
   "metadata": {},
   "outputs": [],
   "source": [
    "# reward characterisation\n",
    "r_target = lambda d: 1 / np.exp(d)\n",
    "r_ray = lambda d: -1 / np.exp(d)\n",
    "r_thruster = lambda T: -T**2\n",
    "r_angvel = lambda w: -w**2\n",
    "\n",
    "# normalised metrics\n",
    "npts = 5000\n",
    "pts = np.linspace(0, 1, npts)"
   ]
  },
  {
   "cell_type": "code",
   "execution_count": null,
   "metadata": {},
   "outputs": [],
   "source": [
    "# plotting\n",
    "plt.figure()\n",
    "\n",
    "plt.plot(pts, r_target(pts), \"k-\")\n",
    "#plt.plot(pts, r_ray(pts), \"k-.\")\n",
    "plt.plot(pts, r_thruster(pts), \"0.5\")\n",
    "plt.plot(pts, r_angvel(pts), \"k--\", dashes=(5, 5))\n",
    "\n",
    "plt.legend([\"Target distance\", \"Thruster power\", \"Angular velocity\"])\n",
    "plt.ylabel(\"Reward\")\n",
    "plt.xlabel(\"Normalised metric\")\n",
    "\n",
    "plt.show()"
   ]
  },
  {
   "cell_type": "code",
   "execution_count": null,
   "metadata": {},
   "outputs": [],
   "source": []
  }
 ],
 "metadata": {
  "kernelspec": {
   "display_name": "Python 3",
   "language": "python",
   "name": "python3"
  },
  "language_info": {
   "codemirror_mode": {
    "name": "ipython",
    "version": 3
   },
   "file_extension": ".py",
   "mimetype": "text/x-python",
   "name": "python",
   "nbconvert_exporter": "python",
   "pygments_lexer": "ipython3",
   "version": "3.5.2"
  }
 },
 "nbformat": 4,
 "nbformat_minor": 2
}
