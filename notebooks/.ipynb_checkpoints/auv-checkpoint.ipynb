{
 "cells": [
  {
   "cell_type": "markdown",
   "metadata": {},
   "source": [
    "# Thrust vectored AUV"
   ]
  },
  {
   "cell_type": "markdown",
   "metadata": {},
   "source": [
    "## Extremeley similar to thrust vector rocket landing (a la moda di SpaceX)\n",
    "![](rocket.png)\n",
    "![](equations.png)"
   ]
  },
  {
   "cell_type": "code",
   "execution_count": 2,
   "metadata": {},
   "outputs": [
    {
     "ename": "SyntaxError",
     "evalue": "invalid syntax (<ipython-input-2-bfb4b0a5b5d4>, line 2)",
     "output_type": "error",
     "traceback": [
      "\u001b[0;36m  File \u001b[0;32m\"<ipython-input-2-bfb4b0a5b5d4>\"\u001b[0;36m, line \u001b[0;32m2\u001b[0m\n\u001b[0;31m    from mpmath import as mp\u001b[0m\n\u001b[0m                        ^\u001b[0m\n\u001b[0;31mSyntaxError\u001b[0m\u001b[0;31m:\u001b[0m invalid syntax\n"
     ]
    }
   ],
   "source": [
    "from sympy import *\n",
    "import mpmath import as mp\n",
    "init_printing()"
   ]
  },
  {
   "cell_type": "code",
   "execution_count": null,
   "metadata": {},
   "outputs": [],
   "source": [
    "# state\n",
    "x, y, vx, vy, theta, omega = symbols('x y vx vy theta omega', real=True)\n",
    "p = Matrix([x, y])\n",
    "v = Matrix([vx, vy])\n",
    "s = Matrix([p, v, [theta], [omega]])\n",
    "s.T"
   ]
  },
  {
   "cell_type": "code",
   "execution_count": null,
   "metadata": {},
   "outputs": [],
   "source": [
    "# costate variables\n",
    "lx, ly, lvx, lvy, ltheta, lomega = symbols('lambda_x lambda_y lambda_v_x lambda_v_y lambda_theta lambda_omega', real=True)\n",
    "lp = Matrix([lx, ly])\n",
    "lv = Matrix([lvx, lvy])\n",
    "l = Matrix([lp, lv, [ltheta], [lomega]])\n",
    "l.T"
   ]
  },
  {
   "cell_type": "code",
   "execution_count": null,
   "metadata": {},
   "outputs": [],
   "source": [
    "# fullstate\n",
    "fs = Matrix([s, l])\n",
    "fs.T"
   ]
  },
  {
   "cell_type": "code",
   "execution_count": null,
   "metadata": {},
   "outputs": [],
   "source": [
    "# params: gravity, max thrust, mass, half length of auv\n",
    "g, T, m, length, alpha, rho, cd, A = symbols('g T m L alpha rho C_d A', real=True, positive=True)\n",
    "params = Matrix([g, T, m, length, alpha, rho, cd, A])\n",
    "params.T"
   ]
  },
  {
   "cell_type": "code",
   "execution_count": null,
   "metadata": {},
   "outputs": [],
   "source": [
    "# actions\n",
    "u = symbols('u', real=True, positive=True)\n",
    "phi = symbols('phi', real=True)\n",
    "actions = Matrix([u, phi])\n",
    "actions.T"
   ]
  },
  {
   "cell_type": "code",
   "execution_count": null,
   "metadata": {},
   "outputs": [],
   "source": [
    "# thrust vector tilt wrt global frame\n",
    "t = Matrix([cos(theta + phi), sin(theta + phi)])\n",
    "\n",
    "# rocket orientation wrt horizontal\n",
    "itheta = Matrix([cos(theta), sin(theta)])\n",
    "\n",
    "# perpendicular direction to orientation\n",
    "itau = Matrix([sin(theta), -cos(theta)])"
   ]
  },
  {
   "cell_type": "code",
   "execution_count": null,
   "metadata": {},
   "outputs": [],
   "source": [
    "# dynamics\n",
    "dr = v\n",
    "dv = T*u*t + Matrix([0, -g]) + Rational(1, 2)*rho*sqrt(sum([vec**2 for vec in v]))*v*cd*A\n",
    "dtheta = omega\n",
    "domega = (12/m/length**2) * T*u*length/2 * t.dot(itau)\n",
    "ds = Matrix([dr, dv, [dtheta], [domega]])\n",
    "ds"
   ]
  },
  {
   "cell_type": "code",
   "execution_count": null,
   "metadata": {},
   "outputs": [],
   "source": [
    "# dynamic Lagrangian to minimise thrust usage\n",
    "L = (1- alpha)*u**2 + alpha*u\n",
    "L"
   ]
  },
  {
   "cell_type": "code",
   "execution_count": null,
   "metadata": {},
   "outputs": [],
   "source": [
    "# Hamiltonian\n",
    "H = l.dot(ds) + L\n",
    "H"
   ]
  },
  {
   "cell_type": "code",
   "execution_count": null,
   "metadata": {},
   "outputs": [],
   "source": [
    "# optimal thrust direction\n",
    "laux = (lv + lomega*12/length**2*itau)\n",
    "lauxnorm = sqrt(sum([laux[i]**2 for i in range(len(laux))]))\n",
    "lauxdir = laux/lauxnorm\n",
    "tstar = -lauxdir\n",
    "tstar = simplify(tstar)\n",
    "tstar"
   ]
  },
  {
   "cell_type": "code",
   "execution_count": null,
   "metadata": {},
   "outputs": [],
   "source": [
    "phistar = arctan(tstar[1], tstar[0])\n",
    "phistar"
   ]
  },
  {
   "cell_type": "code",
   "execution_count": null,
   "metadata": {},
   "outputs": [],
   "source": [
    "# new Hamiltonian with optimal thrust direction\n",
    "drs = v\n",
    "dvs = T*u*t + Matrix([0, -g]) + Rational(1, 2)*rho*sqrt(sum([vec**2 for vec in v]))*v*cd*A\n",
    "dthetas = omega\n",
    "domegas = 12*T*u/m/length**2 * t.dot(itau)\n",
    "dss = Matrix([dr, dv, [dtheta], [domega]])\n",
    "Hstar = l.dot(dss) + L"
   ]
  },
  {
   "cell_type": "code",
   "execution_count": null,
   "metadata": {},
   "outputs": [],
   "source": [
    "# optimal thrust magnitude (unbounded)\n",
    "ustar = solve(Hstar.diff(u), u)[0]\n",
    "ustar = simplify(ustar)\n",
    "ustar"
   ]
  },
  {
   "cell_type": "code",
   "execution_count": null,
   "metadata": {},
   "outputs": [],
   "source": [
    "# costate equations of motion\n",
    "dl = -Matrix([H.diff(var) for var in s])\n",
    "\n",
    "# fullstate\n",
    "dfs = Matrix([ds, dl])\n",
    "dfs = simplify(dfs)\n",
    "dfs"
   ]
  },
  {
   "cell_type": "markdown",
   "metadata": {},
   "source": [
    "# Code"
   ]
  },
  {
   "cell_type": "code",
   "execution_count": null,
   "metadata": {},
   "outputs": [],
   "source": [
    "ustar.subs()"
   ]
  },
  {
   "cell_type": "code",
   "execution_count": null,
   "metadata": {},
   "outputs": [],
   "source": [
    "pprint(dfs)"
   ]
  },
  {
   "cell_type": "code",
   "execution_count": null,
   "metadata": {},
   "outputs": [],
   "source": [
    "dfs\n"
   ]
  },
  {
   "cell_type": "code",
   "execution_count": null,
   "metadata": {},
   "outputs": [],
   "source": []
  }
 ],
 "metadata": {
  "kernelspec": {
   "display_name": "Python 3",
   "language": "python",
   "name": "python3"
  },
  "language_info": {
   "codemirror_mode": {
    "name": "ipython",
    "version": 2
   },
   "file_extension": ".py",
   "mimetype": "text/x-python",
   "name": "python",
   "nbconvert_exporter": "python",
   "pygments_lexer": "ipython2",
   "version": "2.7.12"
  }
 },
 "nbformat": 4,
 "nbformat_minor": 2
}
