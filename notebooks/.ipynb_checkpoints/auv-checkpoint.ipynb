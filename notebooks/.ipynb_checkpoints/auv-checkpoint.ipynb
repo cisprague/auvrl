{
 "cells": [
  {
   "cell_type": "markdown",
   "metadata": {},
   "source": [
    "# Thrust vectored AUV"
   ]
  },
  {
   "cell_type": "markdown",
   "metadata": {},
   "source": [
    "## Extremeley similar to thrust vector rocket landing (a la moda di SpaceX)\n",
    "![](rocket.png)\n",
    "![](equations.png)"
   ]
  },
  {
   "cell_type": "code",
   "execution_count": 1,
   "metadata": {},
   "outputs": [],
   "source": [
    "from sympy import *\n",
    "init_printing()"
   ]
  },
  {
   "cell_type": "code",
   "execution_count": 2,
   "metadata": {},
   "outputs": [
    {
     "data": {
      "text/latex": [
       "$$\\left[\\begin{matrix}x & y & vx & vy & \\theta & \\omega\\end{matrix}\\right]$$"
      ],
      "text/plain": [
       "[x  y  vx  vy  θ  ω]"
      ]
     },
     "execution_count": 2,
     "metadata": {},
     "output_type": "execute_result"
    }
   ],
   "source": [
    "# state\n",
    "x, y, vx, vy, theta, omega = symbols('x y vx vy theta omega', real=True)\n",
    "p = Matrix([x, y])\n",
    "v = Matrix([vx, vy])\n",
    "s = Matrix([p, v, [theta], [omega]])\n",
    "s.T"
   ]
  },
  {
   "cell_type": "code",
   "execution_count": 3,
   "metadata": {},
   "outputs": [
    {
     "data": {
      "text/latex": [
       "$$\\left[\\begin{matrix}\\lambda_{x} & \\lambda_{y} & \\lambda_{v x} & \\lambda_{v y} & \\lambda_{\\theta} & \\lambda_{\\omega}\\end{matrix}\\right]$$"
      ],
      "text/plain": [
       "[λₓ  λ_y  λᵥ ₓ  λ_v_y  λₜₕₑₜₐ  λ_ω]"
      ]
     },
     "execution_count": 3,
     "metadata": {},
     "output_type": "execute_result"
    }
   ],
   "source": [
    "# costate variables\n",
    "# these are just fictitious variables that govern the evolution of the state variables over time\n",
    "# the optimisation problem is to solve to the optimal initial costate variables\n",
    "# to evolve the trajectory optimally (wrt lagrangian) to the boundary conditions (e.g. soft landing)\n",
    "lx, ly, lvx, lvy, ltheta, lomega = symbols('lambda_x lambda_y lambda_v_x lambda_v_y lambda_theta lambda_omega', real=True)\n",
    "lp = Matrix([lx, ly])\n",
    "lv = Matrix([lvx, lvy])\n",
    "l = Matrix([lp, lv, [ltheta], [lomega]])\n",
    "l.T"
   ]
  },
  {
   "cell_type": "code",
   "execution_count": 4,
   "metadata": {},
   "outputs": [
    {
     "data": {
      "text/latex": [
       "$$\\left[\\begin{array}{cccccccccccc}x & y & vx & vy & \\theta & \\omega & \\lambda_{x} & \\lambda_{y} & \\lambda_{v x} & \\lambda_{v y} & \\lambda_{\\theta} & \\lambda_{\\omega}\\end{array}\\right]$$"
      ],
      "text/plain": [
       "[x  y  vx  vy  θ  ω  λₓ  λ_y  λᵥ ₓ  λ_v_y  λₜₕₑₜₐ  λ_ω]"
      ]
     },
     "execution_count": 4,
     "metadata": {},
     "output_type": "execute_result"
    }
   ],
   "source": [
    "# fullstate\n",
    "fs = Matrix([s, l])\n",
    "fs.T"
   ]
  },
  {
   "cell_type": "code",
   "execution_count": 5,
   "metadata": {},
   "outputs": [
    {
     "data": {
      "text/latex": [
       "$$\\left[\\begin{matrix}g & T & m & l & \\rho & C_{d} & A\\end{matrix}\\right]$$"
      ],
      "text/plain": [
       "[g  T  m  l  ρ  C_d  A]"
      ]
     },
     "execution_count": 5,
     "metadata": {},
     "output_type": "execute_result"
    }
   ],
   "source": [
    "# params: gravity, max thrust, mass, half length of auv\n",
    "g, T, m, length, rho, cd, A = symbols('g T m l rho C_d A', real=True, positive=True)\n",
    "params = Matrix([g, T, m, length, rho, cd, A])\n",
    "params.T"
   ]
  },
  {
   "cell_type": "code",
   "execution_count": 6,
   "metadata": {},
   "outputs": [
    {
     "data": {
      "image/png": "[encoded data removed]",
      "text/latex": [
       "$$\\alpha$$"
      ],
      "text/plain": [
       "α"
      ]
     },
     "execution_count": 6,
     "metadata": {},
     "output_type": "execute_result"
    }
   ],
   "source": [
    "# homotopy parameter\n",
    "alpha = symbols('alpha')\n",
    "alpha"
   ]
  },
  {
   "cell_type": "code",
   "execution_count": 7,
   "metadata": {},
   "outputs": [
    {
     "data": {
      "text/latex": [
       "$$\\left[\\begin{matrix}u_{t} & u_{x} & u_{y}\\end{matrix}\\right]$$"
      ],
      "text/plain": [
       "[uₜ  uₓ  u_y]"
      ]
     },
     "execution_count": 7,
     "metadata": {},
     "output_type": "execute_result"
    }
   ],
   "source": [
    "# actions\n",
    "ut = symbols('u_t', real=True, positive=True)\n",
    "ux, uy = symbols('u_x u_y', real=True)\n",
    "u = Matrix([ut, ux, uy])\n",
    "u.T"
   ]
  },
  {
   "cell_type": "code",
   "execution_count": 8,
   "metadata": {},
   "outputs": [],
   "source": [
    "# thrust vector tilt wrt global frame\n",
    "#t = Matrix([cos(theta + phi), sin(theta + phi)])\n",
    "t = Matrix([ux, uy])\n",
    "\n",
    "# rocket orientation wrt horizontal\n",
    "itheta = Matrix([cos(theta), sin(theta)])\n",
    "\n",
    "# perpendicular direction to orientation\n",
    "itau = Matrix([sin(theta), -cos(theta)])"
   ]
  },
  {
   "cell_type": "code",
   "execution_count": 9,
   "metadata": {},
   "outputs": [
    {
     "data": {
      "text/latex": [
       "$$\\left[\\begin{matrix}vx\\\\vy\\\\- \\frac{A vx}{2} C_{d} \\rho \\sqrt{vx^{2} + vy^{2}} + T u_{t} u_{x}\\\\- \\frac{A vy}{2} C_{d} \\rho \\sqrt{vx^{2} + vy^{2}} + T u_{t} u_{y} - g\\\\\\omega\\\\\\frac{6 T u_{t}}{l m} \\left(u_{x} \\sin{\\left (\\theta \\right )} - u_{y} \\cos{\\left (\\theta \\right )}\\right)\\end{matrix}\\right]$$"
      ],
      "text/plain": [
       "⎡                    vx                    ⎤\n",
       "⎢                                          ⎥\n",
       "⎢                    vy                    ⎥\n",
       "⎢                                          ⎥\n",
       "⎢                  ___________             ⎥\n",
       "⎢                 ╱   2     2              ⎥\n",
       "⎢    A⋅C_d⋅ρ⋅vx⋅╲╱  vx  + vy               ⎥\n",
       "⎢  - ───────────────────────── + T⋅uₜ⋅uₓ   ⎥\n",
       "⎢                2                         ⎥\n",
       "⎢                                          ⎥\n",
       "⎢                ___________               ⎥\n",
       "⎢               ╱   2     2                ⎥\n",
       "⎢  A⋅C_d⋅ρ⋅vy⋅╲╱  vx  + vy                 ⎥\n",
       "⎢- ───────────────────────── + T⋅uₜ⋅u_y - g⎥\n",
       "⎢              2                           ⎥\n",
       "⎢                                          ⎥\n",
       "⎢                    ω                     ⎥\n",
       "⎢                                          ⎥\n",
       "⎢     6⋅T⋅uₜ⋅(uₓ⋅sin(θ) - u_y⋅cos(θ))      ⎥\n",
       "⎢     ───────────────────────────────      ⎥\n",
       "⎣                   l⋅m                    ⎦"
      ]
     },
     "execution_count": 9,
     "metadata": {},
     "output_type": "execute_result"
    }
   ],
   "source": [
    "# fluid drag\n",
    "vinf = v\n",
    "vinfmag = sqrt(sum([var**2 for var in vinf]))\n",
    "Fd = - Rational(1,2)*density*vinf*vinfmag*CD*planaform\n",
    "\n",
    "# dynamics\n",
    "dr = v\n",
    "dv = T*ut*t + Matrix([0, -g]) - Rational(1, 2)*rho*sqrt(sum([vec**2 for vec in v]))*v*cd*A\n",
    "dtheta = omega\n",
    "domega = (12/m/length**2) * T*ut*length/2 * t.dot(itau)\n",
    "ds = Matrix([dr, dv, [dtheta], [domega]])\n",
    "ds"
   ]
  },
  {
   "cell_type": "code",
   "execution_count": 10,
   "metadata": {},
   "outputs": [
    {
     "data": {
      "image/png": "[encoded data removed]",
      "text/latex": [
       "$$\\alpha u_{t} + u_{t}^{2} \\left(- \\alpha + 1\\right)$$"
      ],
      "text/plain": [
       "         2         \n",
       "α⋅uₜ + uₜ ⋅(-α + 1)"
      ]
     },
     "execution_count": 10,
     "metadata": {},
     "output_type": "execute_result"
    }
   ],
   "source": [
    "# dynamic Lagrangian to minimise thrust usage\n",
    "L = (1- alpha)*ut**2 + alpha*ut\n",
    "L"
   ]
  },
  {
   "cell_type": "code",
   "execution_count": 11,
   "metadata": {},
   "outputs": [
    {
     "data": {
      "image/png": "[encoded data removed]",
      "text/latex": [
       "$$\\frac{6 T \\lambda_{\\omega} u_{t}}{l m} \\left(u_{x} \\sin{\\left (\\theta \\right )} - u_{y} \\cos{\\left (\\theta \\right )}\\right) + \\alpha u_{t} + \\lambda_{\\theta} \\omega + \\lambda_{v x} \\left(- \\frac{A vx}{2} C_{d} \\rho \\sqrt{vx^{2} + vy^{2}} + T u_{t} u_{x}\\right) + \\lambda_{v y} \\left(- \\frac{A vy}{2} C_{d} \\rho \\sqrt{vx^{2} + vy^{2}} + T u_{t} u_{y} - g\\right) + \\lambda_{x} vx + \\lambda_{y} vy + u_{t}^{2} \\left(- \\alpha + 1\\right)$$"
      ],
      "text/plain": [
       "                                                             ⎛                \n",
       "                                                             ⎜               ╱\n",
       "6⋅T⋅λ_ω⋅uₜ⋅(uₓ⋅sin(θ) - u_y⋅cos(θ))                          ⎜  A⋅C_d⋅ρ⋅vx⋅╲╱ \n",
       "─────────────────────────────────── + α⋅uₜ + λₜₕₑₜₐ⋅ω + λᵥ ₓ⋅⎜- ──────────────\n",
       "                l⋅m                                          ⎝              2 \n",
       "\n",
       "___________          ⎞         ⎛                ___________               ⎞   \n",
       "   2     2           ⎟         ⎜               ╱   2     2                ⎟   \n",
       " vx  + vy            ⎟         ⎜  A⋅C_d⋅ρ⋅vy⋅╲╱  vx  + vy                 ⎟   \n",
       "─────────── + T⋅uₜ⋅uₓ⎟ + λ_v_y⋅⎜- ───────────────────────── + T⋅uₜ⋅u_y - g⎟ + \n",
       "                     ⎠         ⎝              2                           ⎠   \n",
       "\n",
       "                             \n",
       "                             \n",
       "                   2         \n",
       "λₓ⋅vx + λ_y⋅vy + uₜ ⋅(-α + 1)\n",
       "                             "
      ]
     },
     "execution_count": 11,
     "metadata": {},
     "output_type": "execute_result"
    }
   ],
   "source": [
    "# Hamiltonian\n",
    "H = l.dot(ds) + L\n",
    "H"
   ]
  },
  {
   "cell_type": "code",
   "execution_count": 12,
   "metadata": {},
   "outputs": [
    {
     "data": {
      "text/latex": [
       "$$\\left[\\begin{matrix}- \\frac{l^{2} \\lambda_{v x} + 12 \\lambda_{\\omega} \\sin{\\left (\\theta \\right )}}{\\sqrt{\\left(l^{2} \\lambda_{v x} + 12 \\lambda_{\\omega} \\sin{\\left (\\theta \\right )}\\right)^{2} + \\left(l^{2} \\lambda_{v y} - 12 \\lambda_{\\omega} \\cos{\\left (\\theta \\right )}\\right)^{2}}}\\\\\\frac{- l^{2} \\lambda_{v y} + 12 \\lambda_{\\omega} \\cos{\\left (\\theta \\right )}}{\\sqrt{\\left(l^{2} \\lambda_{v x} + 12 \\lambda_{\\omega} \\sin{\\left (\\theta \\right )}\\right)^{2} + \\left(l^{2} \\lambda_{v y} - 12 \\lambda_{\\omega} \\cos{\\left (\\theta \\right )}\\right)^{2}}}\\end{matrix}\\right]$$"
      ],
      "text/plain": [
       "⎡                  ⎛ 2                     ⎞                   ⎤\n",
       "⎢                 -⎝l ⋅λᵥ ₓ + 12⋅λ_ω⋅sin(θ)⎠                   ⎥\n",
       "⎢──────────────────────────────────────────────────────────────⎥\n",
       "⎢    __________________________________________________________⎥\n",
       "⎢   ╱                          2                             2 ⎥\n",
       "⎢  ╱  ⎛ 2                     ⎞    ⎛ 2                      ⎞  ⎥\n",
       "⎢╲╱   ⎝l ⋅λᵥ ₓ + 12⋅λ_ω⋅sin(θ)⎠  + ⎝l ⋅λ_v_y - 12⋅λ_ω⋅cos(θ)⎠  ⎥\n",
       "⎢                                                              ⎥\n",
       "⎢                     2                                        ⎥\n",
       "⎢                  - l ⋅λ_v_y + 12⋅λ_ω⋅cos(θ)                  ⎥\n",
       "⎢──────────────────────────────────────────────────────────────⎥\n",
       "⎢    __________________________________________________________⎥\n",
       "⎢   ╱                          2                             2 ⎥\n",
       "⎢  ╱  ⎛ 2                     ⎞    ⎛ 2                      ⎞  ⎥\n",
       "⎣╲╱   ⎝l ⋅λᵥ ₓ + 12⋅λ_ω⋅sin(θ)⎠  + ⎝l ⋅λ_v_y - 12⋅λ_ω⋅cos(θ)⎠  ⎦"
      ]
     },
     "execution_count": 12,
     "metadata": {},
     "output_type": "execute_result"
    }
   ],
   "source": [
    "# optimal thrust direction\n",
    "laux = (lv + lomega*12/length**2*itau)\n",
    "lauxnorm = sqrt(sum([laux[i]**2 for i in range(len(laux))]))\n",
    "lauxdir = laux/lauxnorm\n",
    "tstar = -lauxdir\n",
    "tstar = simplify(tstar)\n",
    "tstar"
   ]
  },
  {
   "cell_type": "code",
   "execution_count": 13,
   "metadata": {},
   "outputs": [
    {
     "data": {
      "image/png": "[encoded data removed]",
      "text/latex": [
       "$$\\frac{12 T \\lambda_{\\omega} u_{t}}{l^{2} m} \\left(- \\frac{\\left(l^{2} \\lambda_{v x} + 12 \\lambda_{\\omega} \\sin{\\left (\\theta \\right )}\\right) \\sin{\\left (\\theta \\right )}}{\\sqrt{\\left(l^{2} \\lambda_{v x} + 12 \\lambda_{\\omega} \\sin{\\left (\\theta \\right )}\\right)^{2} + \\left(l^{2} \\lambda_{v y} - 12 \\lambda_{\\omega} \\cos{\\left (\\theta \\right )}\\right)^{2}}} - \\frac{\\left(- l^{2} \\lambda_{v y} + 12 \\lambda_{\\omega} \\cos{\\left (\\theta \\right )}\\right) \\cos{\\left (\\theta \\right )}}{\\sqrt{\\left(l^{2} \\lambda_{v x} + 12 \\lambda_{\\omega} \\sin{\\left (\\theta \\right )}\\right)^{2} + \\left(l^{2} \\lambda_{v y} - 12 \\lambda_{\\omega} \\cos{\\left (\\theta \\right )}\\right)^{2}}}\\right) + \\alpha u_{t} + \\lambda_{\\theta} \\omega + \\lambda_{v x} \\left(- \\frac{A vx}{2} C_{d} \\rho \\sqrt{vx^{2} + vy^{2}} - \\frac{T u_{t} \\left(l^{2} \\lambda_{v x} + 12 \\lambda_{\\omega} \\sin{\\left (\\theta \\right )}\\right)}{\\sqrt{\\left(l^{2} \\lambda_{v x} + 12 \\lambda_{\\omega} \\sin{\\left (\\theta \\right )}\\right)^{2} + \\left(l^{2} \\lambda_{v y} - 12 \\lambda_{\\omega} \\cos{\\left (\\theta \\right )}\\right)^{2}}}\\right) + \\lambda_{v y} \\left(- \\frac{A vy}{2} C_{d} \\rho \\sqrt{vx^{2} + vy^{2}} + \\frac{T u_{t} \\left(- l^{2} \\lambda_{v y} + 12 \\lambda_{\\omega} \\cos{\\left (\\theta \\right )}\\right)}{\\sqrt{\\left(l^{2} \\lambda_{v x} + 12 \\lambda_{\\omega} \\sin{\\left (\\theta \\right )}\\right)^{2} + \\left(l^{2} \\lambda_{v y} - 12 \\lambda_{\\omega} \\cos{\\left (\\theta \\right )}\\right)^{2}}} - g\\right) + \\lambda_{x} vx + \\lambda_{y} vy + u_{t}^{2} \\left(- \\alpha + 1\\right)$$"
      ],
      "text/plain": [
       "            ⎛                 ⎛ 2                     ⎞                       \n",
       "            ⎜                 ⎝l ⋅λᵥ ₓ + 12⋅λ_ω⋅sin(θ)⎠⋅sin(θ)                \n",
       "12⋅T⋅λ_ω⋅uₜ⋅⎜- ────────────────────────────────────────────────────────────── \n",
       "            ⎜      __________________________________________________________ \n",
       "            ⎜     ╱                          2                             2  \n",
       "            ⎜    ╱  ⎛ 2                     ⎞    ⎛ 2                      ⎞   \n",
       "            ⎝  ╲╱   ⎝l ⋅λᵥ ₓ + 12⋅λ_ω⋅sin(θ)⎠  + ⎝l ⋅λ_v_y - 12⋅λ_ω⋅cos(θ)⎠   \n",
       "──────────────────────────────────────────────────────────────────────────────\n",
       "                                                                       2      \n",
       "                                                                      l ⋅m    \n",
       "                                                                              \n",
       "                                                                              \n",
       "\n",
       "               ⎛   2                      ⎞                     ⎞             \n",
       "               ⎝- l ⋅λ_v_y + 12⋅λ_ω⋅cos(θ)⎠⋅cos(θ)              ⎟             \n",
       "- ──────────────────────────────────────────────────────────────⎟             \n",
       "      __________________________________________________________⎟             \n",
       "     ╱                          2                             2 ⎟             \n",
       "    ╱  ⎛ 2                     ⎞    ⎛ 2                      ⎞  ⎟             \n",
       "  ╲╱   ⎝l ⋅λᵥ ₓ + 12⋅λ_ω⋅sin(θ)⎠  + ⎝l ⋅λ_v_y - 12⋅λ_ω⋅cos(θ)⎠  ⎠             \n",
       "───────────────────────────────────────────────────────────────── + α⋅uₜ + λₜₕ\n",
       "                                                                              \n",
       "                                                                              \n",
       "                                                                              \n",
       "                                                                              \n",
       "\n",
       "                                                                              \n",
       "                                                                              \n",
       "                                                                              \n",
       "                                                                              \n",
       "             ⎛                ___________                                     \n",
       "             ⎜               ╱   2     2                         ⎛ 2          \n",
       "             ⎜  A⋅C_d⋅ρ⋅vx⋅╲╱  vx  + vy                     T⋅uₜ⋅⎝l ⋅λᵥ ₓ + 12\n",
       "ₑₜₐ⋅ω + λᵥ ₓ⋅⎜- ───────────────────────── - ──────────────────────────────────\n",
       "             ⎜              2                   ______________________________\n",
       "             ⎜                                 ╱                          2   \n",
       "             ⎜                                ╱  ⎛ 2                     ⎞    \n",
       "             ⎝                              ╲╱   ⎝l ⋅λᵥ ₓ + 12⋅λ_ω⋅sin(θ)⎠  + \n",
       "\n",
       "                                                                              \n",
       "                                                                              \n",
       "                                                                              \n",
       "                                                                              \n",
       "                            ⎞         ⎛                ___________            \n",
       "           ⎞                ⎟         ⎜               ╱   2     2             \n",
       "⋅λ_ω⋅sin(θ)⎠                ⎟         ⎜  A⋅C_d⋅ρ⋅vy⋅╲╱  vx  + vy              \n",
       "────────────────────────────⎟ + λ_v_y⋅⎜- ───────────────────────── + ─────────\n",
       "____________________________⎟         ⎜              2                   _____\n",
       "                          2 ⎟         ⎜                                 ╱     \n",
       "⎛ 2                      ⎞  ⎟         ⎜                                ╱  ⎛ 2 \n",
       "⎝l ⋅λ_v_y - 12⋅λ_ω⋅cos(θ)⎠  ⎠         ⎝                              ╲╱   ⎝l ⋅\n",
       "\n",
       "                                                                              \n",
       "                                                                              \n",
       "                                                                              \n",
       "                                                                              \n",
       "                                                         ⎞                    \n",
       "          ⎛   2                      ⎞                   ⎟                    \n",
       "     T⋅uₜ⋅⎝- l ⋅λ_v_y + 12⋅λ_ω⋅cos(θ)⎠                   ⎟                    \n",
       "───────────────────────────────────────────────────── - g⎟ + λₓ⋅vx + λ_y⋅vy + \n",
       "_____________________________________________________    ⎟                    \n",
       "                     2                             2     ⎟                    \n",
       "                    ⎞    ⎛ 2                      ⎞      ⎟                    \n",
       "λᵥ ₓ + 12⋅λ_ω⋅sin(θ)⎠  + ⎝l ⋅λ_v_y - 12⋅λ_ω⋅cos(θ)⎠      ⎠                    \n",
       "\n",
       "            \n",
       "            \n",
       "            \n",
       "            \n",
       "            \n",
       "            \n",
       "  2         \n",
       "uₜ ⋅(-α + 1)\n",
       "            \n",
       "            \n",
       "            \n",
       "            "
      ]
     },
     "execution_count": 13,
     "metadata": {},
     "output_type": "execute_result"
    }
   ],
   "source": [
    "# new Hamiltonian with optimal thrust direction\n",
    "drs = v\n",
    "dvs = T*ut*tstar + Matrix([0, -g]) - Rational(1, 2)*rho*sqrt(sum([vec**2 for vec in v]))*v*cd*A\n",
    "dthetas = omega\n",
    "domegas = 12*T*ut/m/length**2 * tstar.dot(itau)\n",
    "dss = Matrix([drs, dvs, [dthetas], [domegas]])\n",
    "Hstar = l.dot(dss) + L\n",
    "Hstar"
   ]
  },
  {
   "cell_type": "code",
   "execution_count": 14,
   "metadata": {},
   "outputs": [
    {
     "data": {
      "image/png": "[encoded data removed]",
      "text/latex": [
       "$$\\frac{1}{2 l^{2} m \\left(\\alpha \\left(l^{2} \\lambda_{v x} + 12 \\lambda_{\\omega} \\sin{\\left (\\theta \\right )}\\right)^{2} + \\alpha \\left(l^{2} \\lambda_{v y} - 12 \\lambda_{\\omega} \\cos{\\left (\\theta \\right )}\\right)^{2} - \\left(l^{2} \\lambda_{v x} + 12 \\lambda_{\\omega} \\sin{\\left (\\theta \\right )}\\right)^{2} - \\left(l^{2} \\lambda_{v y} - 12 \\lambda_{\\omega} \\cos{\\left (\\theta \\right )}\\right)^{2}\\right)} \\left(- T l^{4} \\lambda_{v x}^{2} m \\sqrt{l^{4} \\lambda_{v x}^{2} + l^{4} \\lambda_{v y}^{2} + 24 l^{2} \\lambda_{\\omega} \\lambda_{v x} \\sin{\\left (\\theta \\right )} - 24 l^{2} \\lambda_{\\omega} \\lambda_{v y} \\cos{\\left (\\theta \\right )} + 144 \\lambda_{\\omega}^{2}} - T l^{4} \\lambda_{v y}^{2} m \\sqrt{l^{4} \\lambda_{v x}^{2} + l^{4} \\lambda_{v y}^{2} + 24 l^{2} \\lambda_{\\omega} \\lambda_{v x} \\sin{\\left (\\theta \\right )} - 24 l^{2} \\lambda_{\\omega} \\lambda_{v y} \\cos{\\left (\\theta \\right )} + 144 \\lambda_{\\omega}^{2}} - 12 T l^{2} \\lambda_{\\omega} \\lambda_{v x} m \\sqrt{l^{4} \\lambda_{v x}^{2} + l^{4} \\lambda_{v y}^{2} + 24 l^{2} \\lambda_{\\omega} \\lambda_{v x} \\sin{\\left (\\theta \\right )} - 24 l^{2} \\lambda_{\\omega} \\lambda_{v y} \\cos{\\left (\\theta \\right )} + 144 \\lambda_{\\omega}^{2}} \\sin{\\left (\\theta \\right )} - 12 T l^{2} \\lambda_{\\omega} \\lambda_{v x} \\sqrt{l^{4} \\lambda_{v x}^{2} + l^{4} \\lambda_{v y}^{2} + 24 l^{2} \\lambda_{\\omega} \\lambda_{v x} \\sin{\\left (\\theta \\right )} - 24 l^{2} \\lambda_{\\omega} \\lambda_{v y} \\cos{\\left (\\theta \\right )} + 144 \\lambda_{\\omega}^{2}} \\sin{\\left (\\theta \\right )} + 12 T l^{2} \\lambda_{\\omega} \\lambda_{v y} m \\sqrt{l^{4} \\lambda_{v x}^{2} + l^{4} \\lambda_{v y}^{2} + 24 l^{2} \\lambda_{\\omega} \\lambda_{v x} \\sin{\\left (\\theta \\right )} - 24 l^{2} \\lambda_{\\omega} \\lambda_{v y} \\cos{\\left (\\theta \\right )} + 144 \\lambda_{\\omega}^{2}} \\cos{\\left (\\theta \\right )} + 12 T l^{2} \\lambda_{\\omega} \\lambda_{v y} \\sqrt{l^{4} \\lambda_{v x}^{2} + l^{4} \\lambda_{v y}^{2} + 24 l^{2} \\lambda_{\\omega} \\lambda_{v x} \\sin{\\left (\\theta \\right )} - 24 l^{2} \\lambda_{\\omega} \\lambda_{v y} \\cos{\\left (\\theta \\right )} + 144 \\lambda_{\\omega}^{2}} \\cos{\\left (\\theta \\right )} - 144 T \\lambda_{\\omega}^{2} \\sqrt{l^{4} \\lambda_{v x}^{2} + l^{4} \\lambda_{v y}^{2} + 24 l^{2} \\lambda_{\\omega} \\lambda_{v x} \\sin{\\left (\\theta \\right )} - 24 l^{2} \\lambda_{\\omega} \\lambda_{v y} \\cos{\\left (\\theta \\right )} + 144 \\lambda_{\\omega}^{2}} + \\alpha l^{6} \\lambda_{v x}^{2} m + \\alpha l^{6} \\lambda_{v y}^{2} m + 24 \\alpha l^{4} \\lambda_{\\omega} \\lambda_{v x} m \\sin{\\left (\\theta \\right )} - 24 \\alpha l^{4} \\lambda_{\\omega} \\lambda_{v y} m \\cos{\\left (\\theta \\right )} + 144 \\alpha l^{2} \\lambda_{\\omega}^{2} m\\right)$$"
      ],
      "text/plain": [
       "                  ____________________________________________________________\n",
       "     4     2     ╱  4     2    4      2       2                       2       \n",
       "- T⋅l ⋅λᵥ ₓ ⋅m⋅╲╱  l ⋅λᵥ ₓ  + l ⋅λ_v_y  + 24⋅l ⋅λ_ω⋅λᵥ ₓ⋅sin(θ) - 24⋅l ⋅λ_ω⋅λ_\n",
       "──────────────────────────────────────────────────────────────────────────────\n",
       "                                                                              \n",
       "                                                                              \n",
       "                                                                              \n",
       "\n",
       "______________________                    ____________________________________\n",
       "                    2       4      2     ╱  4     2    4      2       2       \n",
       "v_y⋅cos(θ) + 144⋅λ_ω   - T⋅l ⋅λ_v_y ⋅m⋅╲╱  l ⋅λᵥ ₓ  + l ⋅λ_v_y  + 24⋅l ⋅λ_ω⋅λᵥ\n",
       "──────────────────────────────────────────────────────────────────────────────\n",
       "                                                                              \n",
       "                                                                              \n",
       "                                                                              \n",
       "\n",
       "______________________________________________                         _______\n",
       "                2                           2          2              ╱  4    \n",
       " ₓ⋅sin(θ) - 24⋅l ⋅λ_ω⋅λ_v_y⋅cos(θ) + 144⋅λ_ω   - 12⋅T⋅l ⋅λ_ω⋅λᵥ ₓ⋅m⋅╲╱  l ⋅λᵥ \n",
       "──────────────────────────────────────────────────────────────────────────────\n",
       "                                                                              \n",
       "                                                                              \n",
       "                                                                              \n",
       "\n",
       "___________________________________________________________________________   \n",
       " 2    4      2       2                       2                           2    \n",
       "ₓ  + l ⋅λ_v_y  + 24⋅l ⋅λ_ω⋅λᵥ ₓ⋅sin(θ) - 24⋅l ⋅λ_ω⋅λ_v_y⋅cos(θ) + 144⋅λ_ω  ⋅si\n",
       "──────────────────────────────────────────────────────────────────────────────\n",
       "                                                                              \n",
       "                                                                              \n",
       "                                                                              \n",
       "\n",
       "                           ___________________________________________________\n",
       "             2            ╱  4     2    4      2       2                      \n",
       "n(θ) - 12⋅T⋅l ⋅λ_ω⋅λᵥ ₓ⋅╲╱  l ⋅λᵥ ₓ  + l ⋅λ_v_y  + 24⋅l ⋅λ_ω⋅λᵥ ₓ⋅sin(θ) - 24⋅\n",
       "──────────────────────────────────────────────────────────────────────────────\n",
       "                                                              ⎛               \n",
       "                                                          2   ⎜  ⎛ 2          \n",
       "                                                       2⋅l ⋅m⋅⎝α⋅⎝l ⋅λᵥ ₓ + 12\n",
       "\n",
       "_______________________________                                 ______________\n",
       " 2                           2                 2               ╱  4     2    4\n",
       "l ⋅λ_ω⋅λ_v_y⋅cos(θ) + 144⋅λ_ω  ⋅sin(θ) + 12⋅T⋅l ⋅λ_ω⋅λ_v_y⋅m⋅╲╱  l ⋅λᵥ ₓ  + l \n",
       "──────────────────────────────────────────────────────────────────────────────\n",
       "            2                               2                            2    \n",
       "           ⎞      ⎛ 2                      ⎞    ⎛ 2                     ⎞    ⎛\n",
       "⋅λ_ω⋅sin(θ)⎠  + α⋅⎝l ⋅λ_v_y - 12⋅λ_ω⋅cos(θ)⎠  - ⎝l ⋅λᵥ ₓ + 12⋅λ_ω⋅sin(θ)⎠  - ⎝\n",
       "\n",
       "____________________________________________________________________          \n",
       "      2       2                       2                           2           \n",
       "⋅λ_v_y  + 24⋅l ⋅λ_ω⋅λᵥ ₓ⋅sin(θ) - 24⋅l ⋅λ_ω⋅λ_v_y⋅cos(θ) + 144⋅λ_ω  ⋅cos(θ) + \n",
       "──────────────────────────────────────────────────────────────────────────────\n",
       "                         2⎞                                                   \n",
       " 2                      ⎞ ⎟                                                   \n",
       "l ⋅λ_v_y - 12⋅λ_ω⋅cos(θ)⎠ ⎠                                                   \n",
       "\n",
       "                     _________________________________________________________\n",
       "      2             ╱  4     2    4      2       2                       2    \n",
       "12⋅T⋅l ⋅λ_ω⋅λ_v_y⋅╲╱  l ⋅λᵥ ₓ  + l ⋅λ_v_y  + 24⋅l ⋅λ_ω⋅λᵥ ₓ⋅sin(θ) - 24⋅l ⋅λ_ω\n",
       "──────────────────────────────────────────────────────────────────────────────\n",
       "                                                                              \n",
       "                                                                              \n",
       "                                                                              \n",
       "\n",
       "_________________________                        _____________________________\n",
       "                       2                    2   ╱  4     2    4      2       2\n",
       "⋅λ_v_y⋅cos(θ) + 144⋅λ_ω  ⋅cos(θ) - 144⋅T⋅λ_ω ⋅╲╱  l ⋅λᵥ ₓ  + l ⋅λ_v_y  + 24⋅l \n",
       "──────────────────────────────────────────────────────────────────────────────\n",
       "                                                                              \n",
       "                                                                              \n",
       "                                                                              \n",
       "\n",
       "_____________________________________________________                         \n",
       "                       2                           2       6     2        6   \n",
       "⋅λ_ω⋅λᵥ ₓ⋅sin(θ) - 24⋅l ⋅λ_ω⋅λ_v_y⋅cos(θ) + 144⋅λ_ω   + α⋅l ⋅λᵥ ₓ ⋅m + α⋅l ⋅λ_\n",
       "──────────────────────────────────────────────────────────────────────────────\n",
       "                                                                              \n",
       "                                                                              \n",
       "                                                                              \n",
       "\n",
       "                                                                              \n",
       "   2           4                           4                             2    \n",
       "v_y ⋅m + 24⋅α⋅l ⋅λ_ω⋅λᵥ ₓ⋅m⋅sin(θ) - 24⋅α⋅l ⋅λ_ω⋅λ_v_y⋅m⋅cos(θ) + 144⋅α⋅l ⋅λ_ω\n",
       "──────────────────────────────────────────────────────────────────────────────\n",
       "                                                                              \n",
       "                                                                              \n",
       "                                                                              \n",
       "\n",
       "   \n",
       "2  \n",
       " ⋅m\n",
       "───\n",
       "   \n",
       "   \n",
       "   "
      ]
     },
     "execution_count": 14,
     "metadata": {},
     "output_type": "execute_result"
    }
   ],
   "source": [
    "# optimal thrust magnitude (unbounded)\n",
    "utstar = solve(Hstar.diff(ut), ut)[0]\n",
    "utstar"
   ]
  },
  {
   "cell_type": "code",
   "execution_count": 15,
   "metadata": {},
   "outputs": [
    {
     "data": {
      "text/latex": [
       "$$\\left[\\begin{matrix}\\frac{1}{2 l^{2} m \\left(\\alpha \\left(l^{2} \\lambda_{v x} + 12 \\lambda_{\\omega} \\sin{\\left (\\theta \\right )}\\right)^{2} + \\alpha \\left(l^{2} \\lambda_{v y} - 12 \\lambda_{\\omega} \\cos{\\left (\\theta \\right )}\\right)^{2} - \\left(l^{2} \\lambda_{v x} + 12 \\lambda_{\\omega} \\sin{\\left (\\theta \\right )}\\right)^{2} - \\left(l^{2} \\lambda_{v y} - 12 \\lambda_{\\omega} \\cos{\\left (\\theta \\right )}\\right)^{2}\\right)} \\left(- T l^{4} \\lambda_{v x}^{2} m \\sqrt{l^{4} \\lambda_{v x}^{2} + l^{4} \\lambda_{v y}^{2} + 24 l^{2} \\lambda_{\\omega} \\lambda_{v x} \\sin{\\left (\\theta \\right )} - 24 l^{2} \\lambda_{\\omega} \\lambda_{v y} \\cos{\\left (\\theta \\right )} + 144 \\lambda_{\\omega}^{2}} - T l^{4} \\lambda_{v y}^{2} m \\sqrt{l^{4} \\lambda_{v x}^{2} + l^{4} \\lambda_{v y}^{2} + 24 l^{2} \\lambda_{\\omega} \\lambda_{v x} \\sin{\\left (\\theta \\right )} - 24 l^{2} \\lambda_{\\omega} \\lambda_{v y} \\cos{\\left (\\theta \\right )} + 144 \\lambda_{\\omega}^{2}} - 12 T l^{2} \\lambda_{\\omega} \\lambda_{v x} m \\sqrt{l^{4} \\lambda_{v x}^{2} + l^{4} \\lambda_{v y}^{2} + 24 l^{2} \\lambda_{\\omega} \\lambda_{v x} \\sin{\\left (\\theta \\right )} - 24 l^{2} \\lambda_{\\omega} \\lambda_{v y} \\cos{\\left (\\theta \\right )} + 144 \\lambda_{\\omega}^{2}} \\sin{\\left (\\theta \\right )} - 12 T l^{2} \\lambda_{\\omega} \\lambda_{v x} \\sqrt{l^{4} \\lambda_{v x}^{2} + l^{4} \\lambda_{v y}^{2} + 24 l^{2} \\lambda_{\\omega} \\lambda_{v x} \\sin{\\left (\\theta \\right )} - 24 l^{2} \\lambda_{\\omega} \\lambda_{v y} \\cos{\\left (\\theta \\right )} + 144 \\lambda_{\\omega}^{2}} \\sin{\\left (\\theta \\right )} + 12 T l^{2} \\lambda_{\\omega} \\lambda_{v y} m \\sqrt{l^{4} \\lambda_{v x}^{2} + l^{4} \\lambda_{v y}^{2} + 24 l^{2} \\lambda_{\\omega} \\lambda_{v x} \\sin{\\left (\\theta \\right )} - 24 l^{2} \\lambda_{\\omega} \\lambda_{v y} \\cos{\\left (\\theta \\right )} + 144 \\lambda_{\\omega}^{2}} \\cos{\\left (\\theta \\right )} + 12 T l^{2} \\lambda_{\\omega} \\lambda_{v y} \\sqrt{l^{4} \\lambda_{v x}^{2} + l^{4} \\lambda_{v y}^{2} + 24 l^{2} \\lambda_{\\omega} \\lambda_{v x} \\sin{\\left (\\theta \\right )} - 24 l^{2} \\lambda_{\\omega} \\lambda_{v y} \\cos{\\left (\\theta \\right )} + 144 \\lambda_{\\omega}^{2}} \\cos{\\left (\\theta \\right )} - 144 T \\lambda_{\\omega}^{2} \\sqrt{l^{4} \\lambda_{v x}^{2} + l^{4} \\lambda_{v y}^{2} + 24 l^{2} \\lambda_{\\omega} \\lambda_{v x} \\sin{\\left (\\theta \\right )} - 24 l^{2} \\lambda_{\\omega} \\lambda_{v y} \\cos{\\left (\\theta \\right )} + 144 \\lambda_{\\omega}^{2}} + \\alpha l^{6} \\lambda_{v x}^{2} m + \\alpha l^{6} \\lambda_{v y}^{2} m + 24 \\alpha l^{4} \\lambda_{\\omega} \\lambda_{v x} m \\sin{\\left (\\theta \\right )} - 24 \\alpha l^{4} \\lambda_{\\omega} \\lambda_{v y} m \\cos{\\left (\\theta \\right )} + 144 \\alpha l^{2} \\lambda_{\\omega}^{2} m\\right)\\\\- \\frac{l^{2} \\lambda_{v x} + 12 \\lambda_{\\omega} \\sin{\\left (\\theta \\right )}}{\\sqrt{\\left(l^{2} \\lambda_{v x} + 12 \\lambda_{\\omega} \\sin{\\left (\\theta \\right )}\\right)^{2} + \\left(l^{2} \\lambda_{v y} - 12 \\lambda_{\\omega} \\cos{\\left (\\theta \\right )}\\right)^{2}}}\\\\\\frac{- l^{2} \\lambda_{v y} + 12 \\lambda_{\\omega} \\cos{\\left (\\theta \\right )}}{\\sqrt{\\left(l^{2} \\lambda_{v x} + 12 \\lambda_{\\omega} \\sin{\\left (\\theta \\right )}\\right)^{2} + \\left(l^{2} \\lambda_{v y} - 12 \\lambda_{\\omega} \\cos{\\left (\\theta \\right )}\\right)^{2}}}\\end{matrix}\\right]$$"
      ],
      "text/plain": [
       "⎡                  ___________________________________________________________\n",
       "⎢     4     2     ╱  4     2    4      2       2                       2      \n",
       "⎢- T⋅l ⋅λᵥ ₓ ⋅m⋅╲╱  l ⋅λᵥ ₓ  + l ⋅λ_v_y  + 24⋅l ⋅λ_ω⋅λᵥ ₓ⋅sin(θ) - 24⋅l ⋅λ_ω⋅λ\n",
       "⎢─────────────────────────────────────────────────────────────────────────────\n",
       "⎢                                                                             \n",
       "⎢                                                                             \n",
       "⎢                                                                             \n",
       "⎢                                                                             \n",
       "⎢                                                                             \n",
       "⎢                                                                             \n",
       "⎢                                                                             \n",
       "⎢                                                                             \n",
       "⎢                                                                             \n",
       "⎢                                                                             \n",
       "⎢                                                                             \n",
       "⎢                                                                             \n",
       "⎢                                                                             \n",
       "⎢                                                                             \n",
       "⎢                                                                             \n",
       "⎢                                                                             \n",
       "⎢                                                                             \n",
       "⎢                                                                             \n",
       "⎣                                                                             \n",
       "\n",
       "_______________________                    ___________________________________\n",
       "                     2       4      2     ╱  4     2    4      2       2      \n",
       "_v_y⋅cos(θ) + 144⋅λ_ω   - T⋅l ⋅λ_v_y ⋅m⋅╲╱  l ⋅λᵥ ₓ  + l ⋅λ_v_y  + 24⋅l ⋅λ_ω⋅λ\n",
       "──────────────────────────────────────────────────────────────────────────────\n",
       "                                                                              \n",
       "                                                                              \n",
       "                                                                              \n",
       "                                                                              \n",
       "                                                                              \n",
       "                                                                              \n",
       "                                                                              \n",
       "                                                                              \n",
       "                                                                              \n",
       "                                                                              \n",
       "                                                                              \n",
       "                                                                              \n",
       "                                                                              \n",
       "                                                                              \n",
       "                                                                              \n",
       "                                                                              \n",
       "                                                                              \n",
       "                                                                              \n",
       "                                                                              \n",
       "\n",
       "_______________________________________________                         ______\n",
       "                 2                           2          2              ╱  4   \n",
       "ᵥ ₓ⋅sin(θ) - 24⋅l ⋅λ_ω⋅λ_v_y⋅cos(θ) + 144⋅λ_ω   - 12⋅T⋅l ⋅λ_ω⋅λᵥ ₓ⋅m⋅╲╱  l ⋅λᵥ\n",
       "──────────────────────────────────────────────────────────────────────────────\n",
       "                                                                              \n",
       "                                                                              \n",
       "                                                                              \n",
       "                                                                              \n",
       "                                                                              \n",
       "                                                                              \n",
       "                                                                              \n",
       "                                                                              \n",
       "                                                                              \n",
       "                                                                              \n",
       "                                                                              \n",
       "                                                                              \n",
       "                                                                              \n",
       "                                                                              \n",
       "                                                                              \n",
       "                                                                              \n",
       "                                                                              \n",
       "                                                                              \n",
       "                                                                              \n",
       "\n",
       "____________________________________________________________________________  \n",
       "  2    4      2       2                       2                           2   \n",
       " ₓ  + l ⋅λ_v_y  + 24⋅l ⋅λ_ω⋅λᵥ ₓ⋅sin(θ) - 24⋅l ⋅λ_ω⋅λ_v_y⋅cos(θ) + 144⋅λ_ω  ⋅s\n",
       "──────────────────────────────────────────────────────────────────────────────\n",
       "                                                                              \n",
       "                                                                              \n",
       "                                                                              \n",
       "                                                                              \n",
       "                                                                              \n",
       "                                                                              \n",
       "                                                                              \n",
       "                                                                              \n",
       "                                                                              \n",
       "                                                                              \n",
       "                                                                              \n",
       "                                                                              \n",
       "                                                                              \n",
       "                                                                              \n",
       "                                                                              \n",
       "                                                                              \n",
       "                                                                              \n",
       "                                                                              \n",
       "                                                                              \n",
       "\n",
       "                            __________________________________________________\n",
       "              2            ╱  4     2    4      2       2                     \n",
       "in(θ) - 12⋅T⋅l ⋅λ_ω⋅λᵥ ₓ⋅╲╱  l ⋅λᵥ ₓ  + l ⋅λ_v_y  + 24⋅l ⋅λ_ω⋅λᵥ ₓ⋅sin(θ) - 24\n",
       "──────────────────────────────────────────────────────────────────────────────\n",
       "                                                               ⎛              \n",
       "                                                           2   ⎜  ⎛ 2         \n",
       "                                                        2⋅l ⋅m⋅⎝α⋅⎝l ⋅λᵥ ₓ + 1\n",
       "                                                                              \n",
       "                                                                              \n",
       "                                                                              \n",
       "                                                                              \n",
       "                                                                              \n",
       "                                                                              \n",
       "                                                                              \n",
       "                                                                              \n",
       "                                                                              \n",
       "                                                                              \n",
       "                                                                              \n",
       "                                                                              \n",
       "                                                                              \n",
       "                                                                              \n",
       "                                                                              \n",
       "                                                                              \n",
       "\n",
       "________________________________                                 _____________\n",
       "  2                           2                 2               ╱  4     2    \n",
       "⋅l ⋅λ_ω⋅λ_v_y⋅cos(θ) + 144⋅λ_ω  ⋅sin(θ) + 12⋅T⋅l ⋅λ_ω⋅λ_v_y⋅m⋅╲╱  l ⋅λᵥ ₓ  + l\n",
       "──────────────────────────────────────────────────────────────────────────────\n",
       "             2                               2                            2   \n",
       "            ⎞      ⎛ 2                      ⎞    ⎛ 2                     ⎞    \n",
       "2⋅λ_ω⋅sin(θ)⎠  + α⋅⎝l ⋅λ_v_y - 12⋅λ_ω⋅cos(θ)⎠  - ⎝l ⋅λᵥ ₓ + 12⋅λ_ω⋅sin(θ)⎠  - \n",
       "                                                                              \n",
       "                            ⎛ 2                     ⎞                         \n",
       "                           -⎝l ⋅λᵥ ₓ + 12⋅λ_ω⋅sin(θ)⎠                         \n",
       "          ──────────────────────────────────────────────────────────────      \n",
       "              __________________________________________________________      \n",
       "             ╱                          2                             2       \n",
       "            ╱  ⎛ 2                     ⎞    ⎛ 2                      ⎞        \n",
       "          ╲╱   ⎝l ⋅λᵥ ₓ + 12⋅λ_ω⋅sin(θ)⎠  + ⎝l ⋅λ_v_y - 12⋅λ_ω⋅cos(θ)⎠        \n",
       "                                                                              \n",
       "                               2                                              \n",
       "                            - l ⋅λ_v_y + 12⋅λ_ω⋅cos(θ)                        \n",
       "          ──────────────────────────────────────────────────────────────      \n",
       "              __________________________________________________________      \n",
       "             ╱                          2                             2       \n",
       "            ╱  ⎛ 2                     ⎞    ⎛ 2                      ⎞        \n",
       "          ╲╱   ⎝l ⋅λᵥ ₓ + 12⋅λ_ω⋅sin(θ)⎠  + ⎝l ⋅λ_v_y - 12⋅λ_ω⋅cos(θ)⎠        \n",
       "\n",
       "_____________________________________________________________________         \n",
       "4      2       2                       2                           2          \n",
       " ⋅λ_v_y  + 24⋅l ⋅λ_ω⋅λᵥ ₓ⋅sin(θ) - 24⋅l ⋅λ_ω⋅λ_v_y⋅cos(θ) + 144⋅λ_ω  ⋅cos(θ) +\n",
       "──────────────────────────────────────────────────────────────────────────────\n",
       "                          2⎞                                                  \n",
       "⎛ 2                      ⎞ ⎟                                                  \n",
       "⎝l ⋅λ_v_y - 12⋅λ_ω⋅cos(θ)⎠ ⎠                                                  \n",
       "                                                                              \n",
       "                                                                              \n",
       "                                                                              \n",
       "                                                                              \n",
       "                                                                              \n",
       "                                                                              \n",
       "                                                                              \n",
       "                                                                              \n",
       "                                                                              \n",
       "                                                                              \n",
       "                                                                              \n",
       "                                                                              \n",
       "                                                                              \n",
       "                                                                              \n",
       "                                                                              \n",
       "                                                                              \n",
       "\n",
       "                      ________________________________________________________\n",
       "       2             ╱  4     2    4      2       2                       2   \n",
       " 12⋅T⋅l ⋅λ_ω⋅λ_v_y⋅╲╱  l ⋅λᵥ ₓ  + l ⋅λ_v_y  + 24⋅l ⋅λ_ω⋅λᵥ ₓ⋅sin(θ) - 24⋅l ⋅λ_\n",
       "──────────────────────────────────────────────────────────────────────────────\n",
       "                                                                              \n",
       "                                                                              \n",
       "                                                                              \n",
       "                                                                              \n",
       "                                                                              \n",
       "                                                                              \n",
       "                                                                              \n",
       "                                                                              \n",
       "                                                                              \n",
       "                                                                              \n",
       "                                                                              \n",
       "                                                                              \n",
       "                                                                              \n",
       "                                                                              \n",
       "                                                                              \n",
       "                                                                              \n",
       "                                                                              \n",
       "                                                                              \n",
       "                                                                              \n",
       "\n",
       "__________________________                        ____________________________\n",
       "                        2                    2   ╱  4     2    4      2       \n",
       "ω⋅λ_v_y⋅cos(θ) + 144⋅λ_ω  ⋅cos(θ) - 144⋅T⋅λ_ω ⋅╲╱  l ⋅λᵥ ₓ  + l ⋅λ_v_y  + 24⋅l\n",
       "──────────────────────────────────────────────────────────────────────────────\n",
       "                                                                              \n",
       "                                                                              \n",
       "                                                                              \n",
       "                                                                              \n",
       "                                                                              \n",
       "                                                                              \n",
       "                                                                              \n",
       "                                                                              \n",
       "                                                                              \n",
       "                                                                              \n",
       "                                                                              \n",
       "                                                                              \n",
       "                                                                              \n",
       "                                                                              \n",
       "                                                                              \n",
       "                                                                              \n",
       "                                                                              \n",
       "                                                                              \n",
       "                                                                              \n",
       "\n",
       "______________________________________________________                        \n",
       "2                       2                           2       6     2        6  \n",
       " ⋅λ_ω⋅λᵥ ₓ⋅sin(θ) - 24⋅l ⋅λ_ω⋅λ_v_y⋅cos(θ) + 144⋅λ_ω   + α⋅l ⋅λᵥ ₓ ⋅m + α⋅l ⋅λ\n",
       "──────────────────────────────────────────────────────────────────────────────\n",
       "                                                                              \n",
       "                                                                              \n",
       "                                                                              \n",
       "                                                                              \n",
       "                                                                              \n",
       "                                                                              \n",
       "                                                                              \n",
       "                                                                              \n",
       "                                                                              \n",
       "                                                                              \n",
       "                                                                              \n",
       "                                                                              \n",
       "                                                                              \n",
       "                                                                              \n",
       "                                                                              \n",
       "                                                                              \n",
       "                                                                              \n",
       "                                                                              \n",
       "                                                                              \n",
       "\n",
       "                                                                              \n",
       "    2           4                           4                             2   \n",
       "_v_y ⋅m + 24⋅α⋅l ⋅λ_ω⋅λᵥ ₓ⋅m⋅sin(θ) - 24⋅α⋅l ⋅λ_ω⋅λ_v_y⋅m⋅cos(θ) + 144⋅α⋅l ⋅λ_\n",
       "──────────────────────────────────────────────────────────────────────────────\n",
       "                                                                              \n",
       "                                                                              \n",
       "                                                                              \n",
       "                                                                              \n",
       "                                                                              \n",
       "                                                                              \n",
       "                                                                              \n",
       "                                                                              \n",
       "                                                                              \n",
       "                                                                              \n",
       "                                                                              \n",
       "                                                                              \n",
       "                                                                              \n",
       "                                                                              \n",
       "                                                                              \n",
       "                                                                              \n",
       "                                                                              \n",
       "                                                                              \n",
       "                                                                              \n",
       "\n",
       "    ⎤\n",
       " 2  ⎥\n",
       "ω ⋅m⎥\n",
       "────⎥\n",
       "    ⎥\n",
       "    ⎥\n",
       "    ⎥\n",
       "    ⎥\n",
       "    ⎥\n",
       "    ⎥\n",
       "    ⎥\n",
       "    ⎥\n",
       "    ⎥\n",
       "    ⎥\n",
       "    ⎥\n",
       "    ⎥\n",
       "    ⎥\n",
       "    ⎥\n",
       "    ⎥\n",
       "    ⎥\n",
       "    ⎥\n",
       "    ⎥\n",
       "    ⎦"
      ]
     },
     "execution_count": 15,
     "metadata": {},
     "output_type": "execute_result"
    }
   ],
   "source": [
    "ustar = Matrix([[utstar], tstar])\n",
    "ustar"
   ]
  },
  {
   "cell_type": "code",
   "execution_count": 17,
   "metadata": {},
   "outputs": [
    {
     "data": {
      "text/latex": [
       "$$\\left[\\begin{matrix}vx\\\\vy\\\\- \\frac{A vx}{2} C_{d} \\rho \\sqrt{vx^{2} + vy^{2}} + T u_{t} u_{x}\\\\- \\frac{A vy}{2} C_{d} \\rho \\sqrt{vx^{2} + vy^{2}} + T u_{t} u_{y} - g\\\\\\omega\\\\\\frac{6 T u_{t}}{l m} \\left(u_{x} \\sin{\\left (\\theta \\right )} - u_{y} \\cos{\\left (\\theta \\right )}\\right)\\\\0\\\\0\\\\\\frac{A C_{d} \\lambda_{v y} \\rho vx vy}{2 \\sqrt{vx^{2} + vy^{2}}} - \\lambda_{v x} \\left(- \\frac{A C_{d} \\rho vx^{2}}{2 \\sqrt{vx^{2} + vy^{2}}} - \\frac{A C_{d}}{2} \\rho \\sqrt{vx^{2} + vy^{2}}\\right) - \\lambda_{x}\\\\\\frac{A C_{d} \\lambda_{v x} \\rho vx vy}{2 \\sqrt{vx^{2} + vy^{2}}} - \\lambda_{v y} \\left(- \\frac{A C_{d} \\rho vy^{2}}{2 \\sqrt{vx^{2} + vy^{2}}} - \\frac{A C_{d}}{2} \\rho \\sqrt{vx^{2} + vy^{2}}\\right) - \\lambda_{y}\\\\- \\frac{6 T \\lambda_{\\omega} u_{t}}{l m} \\left(u_{x} \\cos{\\left (\\theta \\right )} + u_{y} \\sin{\\left (\\theta \\right )}\\right)\\\\- \\lambda_{\\theta}\\end{matrix}\\right]$$"
      ],
      "text/plain": [
       "⎡                                      vx                                     \n",
       "⎢                                                                             \n",
       "⎢                                      vy                                     \n",
       "⎢                                                                             \n",
       "⎢                                    ___________                              \n",
       "⎢                                   ╱   2     2                               \n",
       "⎢                      A⋅C_d⋅ρ⋅vx⋅╲╱  vx  + vy                                \n",
       "⎢                    - ───────────────────────── + T⋅uₜ⋅uₓ                    \n",
       "⎢                                  2                                          \n",
       "⎢                                                                             \n",
       "⎢                                  ___________                                \n",
       "⎢                                 ╱   2     2                                 \n",
       "⎢                    A⋅C_d⋅ρ⋅vy⋅╲╱  vx  + vy                                  \n",
       "⎢                  - ───────────────────────── + T⋅uₜ⋅u_y - g                 \n",
       "⎢                                2                                            \n",
       "⎢                                                                             \n",
       "⎢                                      ω                                      \n",
       "⎢                                                                             \n",
       "⎢                       6⋅T⋅uₜ⋅(uₓ⋅sin(θ) - u_y⋅cos(θ))                       \n",
       "⎢                       ───────────────────────────────                       \n",
       "⎢                                     l⋅m                                     \n",
       "⎢                                                                             \n",
       "⎢                                      0                                      \n",
       "⎢                                                                             \n",
       "⎢                                      0                                      \n",
       "⎢                                                                             \n",
       "⎢                           ⎛                                ___________⎞     \n",
       "⎢                           ⎜              2                ╱   2     2 ⎟     \n",
       "⎢A⋅C_d⋅λ_v_y⋅ρ⋅vx⋅vy        ⎜    A⋅C_d⋅ρ⋅vx       A⋅C_d⋅ρ⋅╲╱  vx  + vy  ⎟     \n",
       "⎢─────────────────── - λᵥ ₓ⋅⎜- ──────────────── - ──────────────────────⎟ - λₓ\n",
       "⎢       ___________         ⎜       ___________             2           ⎟     \n",
       "⎢      ╱   2     2          ⎜      ╱   2     2                          ⎟     \n",
       "⎢  2⋅╲╱  vx  + vy           ⎝  2⋅╲╱  vx  + vy                           ⎠     \n",
       "⎢                                                                             \n",
       "⎢                           ⎛                                ___________⎞     \n",
       "⎢                           ⎜              2                ╱   2     2 ⎟     \n",
       "⎢A⋅C_d⋅λᵥ ₓ⋅ρ⋅vx⋅vy         ⎜    A⋅C_d⋅ρ⋅vy       A⋅C_d⋅ρ⋅╲╱  vx  + vy  ⎟     \n",
       "⎢────────────────── - λ_v_y⋅⎜- ──────────────── - ──────────────────────⎟ - λ_\n",
       "⎢      ___________          ⎜       ___________             2           ⎟     \n",
       "⎢     ╱   2     2           ⎜      ╱   2     2                          ⎟     \n",
       "⎢ 2⋅╲╱  vx  + vy            ⎝  2⋅╲╱  vx  + vy                           ⎠     \n",
       "⎢                                                                             \n",
       "⎢                    -6⋅T⋅λ_ω⋅uₜ⋅(uₓ⋅cos(θ) + u_y⋅sin(θ))                     \n",
       "⎢                    ─────────────────────────────────────                    \n",
       "⎢                                     l⋅m                                     \n",
       "⎢                                                                             \n",
       "⎣                                   -λₜₕₑₜₐ                                   \n",
       "\n",
       " ⎤\n",
       " ⎥\n",
       " ⎥\n",
       " ⎥\n",
       " ⎥\n",
       " ⎥\n",
       " ⎥\n",
       " ⎥\n",
       " ⎥\n",
       " ⎥\n",
       " ⎥\n",
       " ⎥\n",
       " ⎥\n",
       " ⎥\n",
       " ⎥\n",
       " ⎥\n",
       " ⎥\n",
       " ⎥\n",
       " ⎥\n",
       " ⎥\n",
       " ⎥\n",
       " ⎥\n",
       " ⎥\n",
       " ⎥\n",
       " ⎥\n",
       " ⎥\n",
       " ⎥\n",
       " ⎥\n",
       " ⎥\n",
       " ⎥\n",
       " ⎥\n",
       " ⎥\n",
       " ⎥\n",
       " ⎥\n",
       " ⎥\n",
       " ⎥\n",
       " ⎥\n",
       "y⎥\n",
       " ⎥\n",
       " ⎥\n",
       " ⎥\n",
       " ⎥\n",
       " ⎥\n",
       " ⎥\n",
       " ⎥\n",
       " ⎥\n",
       " ⎦"
      ]
     },
     "execution_count": 17,
     "metadata": {},
     "output_type": "execute_result"
    }
   ],
   "source": [
    "# costate equations of motion\n",
    "dl = -Matrix([H.diff(var) for var in s])\n",
    "\n",
    "# fullstate\n",
    "dfs = Matrix([ds, dl])\n",
    "dfs"
   ]
  },
  {
   "cell_type": "code",
   "execution_count": null,
   "metadata": {},
   "outputs": [],
   "source": [
    "# fullstate Jacobian\n",
    "ddfs = dfs.jacobian(fs)\n",
    "ddfs"
   ]
  },
  {
   "cell_type": "markdown",
   "metadata": {},
   "source": [
    "# Automatic code generation"
   ]
  },
  {
   "cell_type": "code",
   "execution_count": null,
   "metadata": {},
   "outputs": [],
   "source": [
    "from sympy.utilities.codegen import *"
   ]
  },
  {
   "cell_type": "code",
   "execution_count": null,
   "metadata": {},
   "outputs": [],
   "source": [
    "# function names\n",
    "names = [\"lagrangian\", \"hamiltonian\", \"pontryagin\", \"eom_fullstate\", \"eom_fullstate_jac\"]\n",
    "\n",
    "# function expressions\n",
    "funcs = [\n",
    "    Eq(symbols(\"L\"), L),\n",
    "    Eq(symbols(\"H\"), H),\n",
    "    Eq(MatrixSymbol(\"u\", *ustar.shape), ustar),\n",
    "    Eq(MatrixSymbol(\"dfs\", *dfs.shape), dfs),\n",
    "    Eq(MatrixSymbol(\"ddfs\", *ddfs.shape), ddfs)\n",
    "]\n",
    "\n",
    "# function arguments\n",
    "syms = [\n",
    "    [*u, alpha],\n",
    "    [*fs, *u, alpha, *params],\n",
    "    [*fs, alpha, *params],\n",
    "    [*fs, *u, *params],\n",
    "    [*fs, *u, *params]\n",
    "]\n",
    "[sym.append(func.lhs) for sym, func in zip(syms, funcs)]"
   ]
  },
  {
   "cell_type": "code",
   "execution_count": null,
   "metadata": {},
   "outputs": [],
   "source": [
    "# code generator\n",
    "gen = FCodeGen()\n",
    "\n",
    "# create routines\n",
    "routines = [gen.routine(name, func, sym, None) for name, func, sym in zip(names, funcs, syms)]\n",
    "\n",
    "# write routines to file\n",
    "gen.write(routines, \"../src/trajopt/_dynamics\", to_files=True, header=False, empty=True)"
   ]
  },
  {
   "cell_type": "code",
   "execution_count": null,
   "metadata": {},
   "outputs": [],
   "source": [
    "# compile source and create python extension\n",
    "import os\n",
    "os.system(\"cd ../src/trajopt && f2py -c -m _dynamics _dynamics.f90 _dynamics.h\")"
   ]
  },
  {
   "cell_type": "markdown",
   "metadata": {},
   "source": [
    "# Test"
   ]
  },
  {
   "cell_type": "code",
   "execution_count": null,
   "metadata": {},
   "outputs": [],
   "source": [
    "import numpy as np\n",
    "import sys\n",
    "sys.path.append(\"../src/trajopt\")\n",
    "from dynamics import Dynamics\n",
    "from leg import Leg\n",
    "import matplotlib.pyplot as plt\n",
    "%matplotlib"
   ]
  },
  {
   "cell_type": "code",
   "execution_count": null,
   "metadata": {},
   "outputs": [],
   "source": [
    "# instantiate AUV dynamical system\n",
    "sys = Dynamics()"
   ]
  },
  {
   "cell_type": "code",
   "execution_count": null,
   "metadata": {},
   "outputs": [],
   "source": [
    "# instantiate optimal control leg\n",
    "leg = Leg(sys, alpha=0.5, bound=True)"
   ]
  },
  {
   "cell_type": "code",
   "execution_count": null,
   "metadata": {},
   "outputs": [],
   "source": [
    "# arbitrary boundaries\n",
    "t0 = 0\n",
    "s0 = np.array([100, 100, 1, 1, 1, 1], dtype=float)\n",
    "l0 = np.random.random(len(s0))*10\n",
    "tf = 10000\n",
    "sf = np.array([0, 0, 0, 0, 0, 0], dtype=float)"
   ]
  },
  {
   "cell_type": "code",
   "execution_count": null,
   "metadata": {},
   "outputs": [],
   "source": [
    "# set boundaries\n",
    "leg.set(t0, s0, l0, tf, sf)"
   ]
  },
  {
   "cell_type": "code",
   "execution_count": null,
   "metadata": {},
   "outputs": [],
   "source": [
    "# propagate dynamics and measure terminal mismatch\n",
    "leg.mismatch(atol=1e-14, rtol=1e-14)"
   ]
  },
  {
   "cell_type": "code",
   "execution_count": null,
   "metadata": {},
   "outputs": [],
   "source": [
    "leg.plot_traj()\n",
    "leg.plot_states()\n",
    "leg.plot_actions(time=False)\n",
    "plt.show()"
   ]
  },
  {
   "cell_type": "markdown",
   "metadata": {},
   "source": [
    "# Optimisation"
   ]
  },
  {
   "cell_type": "code",
   "execution_count": null,
   "metadata": {},
   "outputs": [],
   "source": [
    "from problem import Problem\n",
    "import pygmo as pg\n",
    "import pygmo_plugins_nonfree as pg7"
   ]
  },
  {
   "cell_type": "code",
   "execution_count": null,
   "metadata": {},
   "outputs": [],
   "source": [
    "# define problem\n",
    "udp = Problem(leg)\n",
    "prob = pg.problem(udp)"
   ]
  },
  {
   "cell_type": "code",
   "execution_count": null,
   "metadata": {},
   "outputs": [],
   "source": [
    "# instantiate algorithm\n",
    "uda = pg7.snopt7(True, \"/usr/lib/libsnopt7_c.so\")\n",
    "uda.set_integer_option(\"Major iterations limit\", 4000)\n",
    "uda.set_integer_option(\"Iterations limit\", 40000)\n",
    "uda.set_numeric_option(\"Major optimality tolerance\", 1e-2)\n",
    "uda.set_numeric_option(\"Major feasibility tolerance\", 1e-8)\n",
    "algo = pg.algorithm(uda)"
   ]
  },
  {
   "cell_type": "code",
   "execution_count": null,
   "metadata": {},
   "outputs": [],
   "source": [
    "# instantiate population\n",
    "pop = pg.population(prob, 1)"
   ]
  },
  {
   "cell_type": "code",
   "execution_count": null,
   "metadata": {},
   "outputs": [],
   "source": [
    "# evolve population\n",
    "pop = algo.evolve(pop)"
   ]
  },
  {
   "cell_type": "code",
   "execution_count": null,
   "metadata": {},
   "outputs": [],
   "source": []
  },
  {
   "cell_type": "code",
   "execution_count": null,
   "metadata": {},
   "outputs": [],
   "source": []
  }
 ],
 "metadata": {
  "kernelspec": {
   "display_name": "Python 3",
   "language": "python",
   "name": "python3"
  },
  "language_info": {
   "codemirror_mode": {
    "name": "ipython",
    "version": 3
   },
   "file_extension": ".py",
   "mimetype": "text/x-python",
   "name": "python",
   "nbconvert_exporter": "python",
   "pygments_lexer": "ipython3",
   "version": "3.5.2"
  }
 },
 "nbformat": 4,
 "nbformat_minor": 2
}
