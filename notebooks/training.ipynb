{
 "cells": [
  {
   "cell_type": "code",
   "execution_count": 1,
   "metadata": {},
   "outputs": [
    {
     "name": "stdout",
     "output_type": "stream",
     "text": [
      "WARNING:tensorflow:From /usr/local/lib/python3.5/dist-packages/tensorflow/contrib/learn/python/learn/datasets/base.py:198: retry (from tensorflow.contrib.learn.python.learn.datasets.base) is deprecated and will be removed in a future version.\n",
      "Instructions for updating:\n",
      "Use the retry module or similar alternatives.\n",
      "hdf5 is not supported on this machine (please install/reinstall h5py for optimal experience)\n",
      "Using matplotlib backend: TkAgg\n"
     ]
    }
   ],
   "source": [
    "# resources\n",
    "import sys\n",
    "sys.path.append(\"../src\")\n",
    "from auv_gym_env import make_environment\n",
    "from ddpg import *\n",
    "import matplotlib.pyplot as plt\n",
    "import numpy as np\n",
    "import time\n",
    "import tensorflow as tf\n",
    "import multiprocessing as mp\n",
    "%matplotlib"
   ]
  },
  {
   "cell_type": "markdown",
   "metadata": {},
   "source": [
    "# Neural Networks"
   ]
  },
  {
   "cell_type": "code",
   "execution_count": 2,
   "metadata": {},
   "outputs": [],
   "source": [
    "# state spaces\n",
    "sdim, adim = 12, 2\n",
    "\n",
    "# instantiate tensorflow session...\n",
    "sess = tf.Session()\n",
    "\n",
    "# actor network\n",
    "actor = ActorNetwork(sess, sdim, adim, [1., 1.], 0.0001, 0.001, 64)\n",
    "\n",
    "# number of trainable actor variables\n",
    "nvar = actor.get_num_trainable_vars()\n",
    "\n",
    "# critic network\n",
    "critic = CriticNetwork(sess, sdim, adim, 0.001, 0.001, 0.99, nvar)\n",
    "\n",
    "# actor noise\n",
    "actor_noise = OrnsteinUhlenbeckActionNoise(mu=np.zeros(2))"
   ]
  },
  {
   "cell_type": "code",
   "execution_count": 3,
   "metadata": {},
   "outputs": [],
   "source": [
    "# arguments\n",
    "args = {\n",
    "    'actor_lr': 0.001,\n",
    "    'critic_lr': 0.001,\n",
    "    'gamma': 0.99,\n",
    "    'tau': 0.001,\n",
    "    'buffer_size': 1000000,\n",
    "    'minibatch_size': 64,\n",
    "    'random_seed': 1234,\n",
    "    'max_episodes': 10,\n",
    "    'max_episode_len': 100000,\n",
    "    'render_env': 'store_true',\n",
    "    'monitor_dir': './results/gym_ddpg',\n",
    "    'summary_dir': './results/tf_ddpg'\n",
    "}"
   ]
  },
  {
   "cell_type": "markdown",
   "metadata": {},
   "source": [
    "# Milestone 1: no obstacles"
   ]
  },
  {
   "cell_type": "code",
   "execution_count": 4,
   "metadata": {},
   "outputs": [],
   "source": [
    "# instantiate environment\n",
    "env = make_environment('manysmall', 50, -.1, 5, 5)\n",
    "env.render()"
   ]
  },
  {
   "cell_type": "code",
   "execution_count": null,
   "metadata": {},
   "outputs": [
    {
     "name": "stdout",
     "output_type": "stream",
     "text": [
      "INFO:tensorflow:Summary name Qmax Value is illegal; using Qmax_Value instead.\n",
      "WARNING:tensorflow:Error encountered when serializing data_preprocessing.\n",
      "Type is unsupported, or the types of the items don't match field type in CollectionDef.\n",
      "'NoneType' object has no attribute 'name'\n",
      "WARNING:tensorflow:Error encountered when serializing data_augmentation.\n",
      "Type is unsupported, or the types of the items don't match field type in CollectionDef.\n",
      "'NoneType' object has no attribute 'name'\n",
      "| Reward: -701 | Episode: 0 | Qmax: -0.8129\n",
      "| Reward: -530 | Episode: 1 | Qmax: -1.0382\n",
      "| Reward: -3039 | Episode: 2 | Qmax: -1.1796\n",
      "| Reward: -3936 | Episode: 3 | Qmax: -2.0367\n",
      "| Reward: -3398 | Episode: 4 | Qmax: -3.4640\n",
      "| Reward: -4835 | Episode: 5 | Qmax: -5.0118\n",
      "| Reward: -5006 | Episode: 6 | Qmax: -6.3294\n",
      "| Reward: -1990 | Episode: 7 | Qmax: -6.8040\n",
      "| Reward: -565 | Episode: 8 | Qmax: -7.2136\n"
     ]
    }
   ],
   "source": [
    "# training\n",
    "rewards, qvals, actions = train(sess, env, args, actor, critic, actor_noise)"
   ]
  },
  {
   "cell_type": "code",
   "execution_count": null,
   "metadata": {},
   "outputs": [],
   "source": [
    "np.load(\"../src/results/data/manysmall_qvals.npy\")"
   ]
  },
  {
   "cell_type": "code",
   "execution_count": null,
   "metadata": {},
   "outputs": [],
   "source": [
    "plt.figure()\n",
    "for i in range(len(actions)):\n",
    "    plt.plot(actions[i][:, -1], actions[i][:, 1], \"k.\", alpha=0.2)\n",
    "plt.show()"
   ]
  },
  {
   "cell_type": "code",
   "execution_count": null,
   "metadata": {},
   "outputs": [],
   "source": [
    "np.vstack((al, a1, a2))"
   ]
  },
  {
   "cell_type": "code",
   "execution_count": null,
   "metadata": {},
   "outputs": [],
   "source": [
    "env.world.world."
   ]
  },
  {
   "cell_type": "code",
   "execution_count": null,
   "metadata": {},
   "outputs": [],
   "source": [
    "np.dstack(actions)"
   ]
  },
  {
   "cell_type": "code",
   "execution_count": null,
   "metadata": {},
   "outputs": [],
   "source": [
    "import os, sys"
   ]
  },
  {
   "cell_type": "code",
   "execution_count": null,
   "metadata": {},
   "outputs": [],
   "source": [
    "__file__"
   ]
  },
  {
   "cell_type": "code",
   "execution_count": null,
   "metadata": {},
   "outputs": [],
   "source": []
  }
 ],
 "metadata": {
  "kernelspec": {
   "display_name": "Python 3",
   "language": "python",
   "name": "python3"
  },
  "language_info": {
   "codemirror_mode": {
    "name": "ipython",
    "version": 3
   },
   "file_extension": ".py",
   "mimetype": "text/x-python",
   "name": "python",
   "nbconvert_exporter": "python",
   "pygments_lexer": "ipython3",
   "version": "3.5.2"
  }
 },
 "nbformat": 4,
 "nbformat_minor": 2
}
