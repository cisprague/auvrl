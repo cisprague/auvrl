{
 "cells": [
  {
   "cell_type": "code",
   "execution_count": null,
   "metadata": {},
   "outputs": [],
   "source": [
    "# resources\n",
    "import sys\n",
    "sys.path.append(\"../src\")\n",
    "from auv_gym_env import make_environment\n",
    "import matplotlib.pyplot as plt\n",
    "import numpy as np\n",
    "import time"
   ]
  },
  {
   "cell_type": "markdown",
   "metadata": {},
   "source": [
    "# Milestone 1: no obstacles"
   ]
  },
  {
   "cell_type": "code",
   "execution_count": null,
   "metadata": {},
   "outputs": [],
   "source": [
    "# milestone 1\n",
    "env = make_environment('manysmall', 50, -.8, 1, 1)\n",
    "env.render()\n",
    "rewards = list()"
   ]
  },
  {
   "cell_type": "code",
   "execution_count": null,
   "metadata": {},
   "outputs": [],
   "source": [
    "start = time.time()\n",
    "nepo = 100\n",
    "\n",
    "for epi in range(nepo):\n",
    "    \n",
    "    while True:\n",
    "        \n",
    "        obs, rew, done, info = env.step((np.random.uniform(-1, 1), np.random.uniform(-1, 1)))\n",
    "        #env.render()\n",
    "        rewards.append(rew)\n",
    "        if done:\n",
    "            env.reset()\n",
    "            break\n",
    "        else:\n",
    "            continue\n",
    "end = time.time()\n",
    "print(str(end - start) + \" seconds\")"
   ]
  },
  {
   "cell_type": "code",
   "execution_count": null,
   "metadata": {},
   "outputs": [],
   "source": [
    "env.auv._auv.angularVelocity"
   ]
  },
  {
   "cell_type": "code",
   "execution_count": null,
   "metadata": {},
   "outputs": [],
   "source": []
  }
 ],
 "metadata": {
  "kernelspec": {
   "display_name": "Python 3",
   "language": "python",
   "name": "python3"
  },
  "language_info": {
   "codemirror_mode": {
    "name": "ipython",
    "version": 3
   },
   "file_extension": ".py",
   "mimetype": "text/x-python",
   "name": "python",
   "nbconvert_exporter": "python",
   "pygments_lexer": "ipython3",
   "version": "3.5.2"
  }
 },
 "nbformat": 4,
 "nbformat_minor": 2
}
