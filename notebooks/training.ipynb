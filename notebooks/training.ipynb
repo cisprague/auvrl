{
 "cells": [
  {
   "cell_type": "code",
   "execution_count": null,
   "metadata": {},
   "outputs": [],
   "source": [
    "# resources\n",
    "import sys\n",
    "sys.path.append(\"../src\")\n",
    "from auv_gym_env import make_environment\n",
    "from ddpg import *\n",
    "import matplotlib.pyplot as plt\n",
    "import numpy as np\n",
    "import time\n",
    "import tensorflow as tf\n",
    "from multiprocessing import Pool\n",
    "%matplotlib"
   ]
  },
  {
   "cell_type": "markdown",
   "metadata": {},
   "source": [
    "# Training in parallel"
   ]
  },
  {
   "cell_type": "code",
   "execution_count": null,
   "metadata": {},
   "outputs": [],
   "source": [
    "def main(env_type):\n",
    "    \n",
    "    print(\"Executing training with \" + str(env_type) + \" environment.\")\n",
    "    \n",
    "    # state and action spaces\n",
    "    sdim, adim = 12, 2\n",
    "\n",
    "    # instantiate tensorflow session...\n",
    "    sess = tf.Session()\n",
    "\n",
    "    # actor network with -1 to 1 actions bounds\n",
    "    actor = ActorNetwork(sess, sdim, adim, [1., 1.], 0.0001, 0.001, 64)\n",
    "\n",
    "    # number of trainable actor variables\n",
    "    nvar = actor.get_num_trainable_vars()\n",
    "\n",
    "    # critic network\n",
    "    critic = CriticNetwork(sess, sdim, adim, 0.001, 0.001, 0.99, nvar)\n",
    "\n",
    "    # actor noise\n",
    "    actor_noise = OrnsteinUhlenbeckActionNoise(mu=np.zeros(2))\n",
    "    \n",
    "    # arguments\n",
    "    args = {\n",
    "        'load_model': \"\",\n",
    "        'actor_lr': 0.001,\n",
    "        'critic_lr': 0.001,\n",
    "        'gamma': 0.99,\n",
    "        'tau': 0.001,\n",
    "        'buffer_size': 1000000,\n",
    "        'minibatch_size': 64,\n",
    "        'random_seed': 1234,\n",
    "        'max_episodes': 200000,\n",
    "        'max_episode_len': 100000,\n",
    "        'render_env': 'store_true',\n",
    "        'monitor_dir': './results/gym_ddpg',\n",
    "        'summary_dir': './results/tf_ddpg'\n",
    "    }\n",
    "    \n",
    "    # instantiate environment\n",
    "    env = make_environment(env_type, 50, -.1, 5, 5)\n",
    "    env.render()\n",
    "    \n",
    "    # training\n",
    "    train(sess, env, args, actor, critic, actor_noise, renf=100)"
   ]
  },
  {
   "cell_type": "code",
   "execution_count": null,
   "metadata": {},
   "outputs": [],
   "source": [
    "# environemnt types\n",
    "ets = ['empty', 'fewlarge', 'manysmall']"
   ]
  },
  {
   "cell_type": "code",
   "execution_count": null,
   "metadata": {},
   "outputs": [],
   "source": [
    "# worker pool\n",
    "p = Pool(processes=3)\n",
    "\n",
    "p.map(main, ets)"
   ]
  },
  {
   "cell_type": "code",
   "execution_count": null,
   "metadata": {},
   "outputs": [],
   "source": [
    "1 / 0"
   ]
  },
  {
   "cell_type": "code",
   "execution_count": null,
   "metadata": {},
   "outputs": [],
   "source": []
  },
  {
   "cell_type": "code",
   "execution_count": null,
   "metadata": {},
   "outputs": [],
   "source": []
  }
 ],
 "metadata": {
  "kernelspec": {
   "display_name": "Python 3",
   "language": "python",
   "name": "python3"
  },
  "language_info": {
   "codemirror_mode": {
    "name": "ipython",
    "version": 3
   },
   "file_extension": ".py",
   "mimetype": "text/x-python",
   "name": "python",
   "nbconvert_exporter": "python",
   "pygments_lexer": "ipython3",
   "version": "3.5.2"
  }
 },
 "nbformat": 4,
 "nbformat_minor": 2
}
