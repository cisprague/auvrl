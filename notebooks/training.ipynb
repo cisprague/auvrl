{
 "cells": [
  {
   "cell_type": "code",
   "execution_count": 1,
   "metadata": {},
   "outputs": [
    {
     "name": "stdout",
     "output_type": "stream",
     "text": [
      "WARNING:tensorflow:From /usr/local/lib/python3.5/dist-packages/tensorflow/contrib/learn/python/learn/datasets/base.py:198: retry (from tensorflow.contrib.learn.python.learn.datasets.base) is deprecated and will be removed in a future version.\n",
      "Instructions for updating:\n",
      "Use the retry module or similar alternatives.\n",
      "hdf5 is not supported on this machine (please install/reinstall h5py for optimal experience)\n"
     ]
    }
   ],
   "source": [
    "# resources\n",
    "import sys\n",
    "sys.path.append(\"../src\")\n",
    "from auv_gym_env import make_environment\n",
    "from ddpg import *\n",
    "import matplotlib.pyplot as plt\n",
    "import numpy as np\n",
    "import time\n",
    "import tensorflow as tf"
   ]
  },
  {
   "cell_type": "markdown",
   "metadata": {},
   "source": [
    "# Neural Networks"
   ]
  },
  {
   "cell_type": "code",
   "execution_count": 2,
   "metadata": {},
   "outputs": [],
   "source": [
    "# state spaces\n",
    "sdim, adim = 12, 2\n",
    "\n",
    "# instantiate tensorflow session...\n",
    "sess = tf.Session()\n",
    "\n",
    "# actor network\n",
    "actor = ActorNetwork(sess, sdim, adim, [1., 1.], 0.0001, 0.001, 64)\n",
    "\n",
    "# number of trainable actor variables\n",
    "nvar = actor.get_num_trainable_vars()\n",
    "\n",
    "# critic network\n",
    "critic = CriticNetwork(sess, sdim, adim, 0.001, 0.001, 0.99, nvar)\n",
    "\n",
    "# actor noise\n",
    "actor_noise = OrnsteinUhlenbeckActionNoise(mu=np.zeros(2))"
   ]
  },
  {
   "cell_type": "code",
   "execution_count": 3,
   "metadata": {},
   "outputs": [],
   "source": [
    "# arguments\n",
    "args = {\n",
    "    'actor_lr': 0.001,\n",
    "    'critic_lr': 0.001,\n",
    "    'gamma': 0.99,\n",
    "    'tau': 0.001,\n",
    "    'buffer_size': 1000000,\n",
    "    'minibatch_size': 64,\n",
    "    'random_seed': 1234,\n",
    "    'max_episodes': 2000,\n",
    "    'max_episode_len': 100000,\n",
    "    'render_env': 'store_true',\n",
    "    'monitor_dir': './results/gym_ddpg',\n",
    "    'summary_dir': './results/tf_ddpg'\n",
    "}"
   ]
  },
  {
   "cell_type": "markdown",
   "metadata": {},
   "source": [
    "# Milestone 1: no obstacles"
   ]
  },
  {
   "cell_type": "code",
   "execution_count": 4,
   "metadata": {},
   "outputs": [],
   "source": [
    "# instantiate environment\n",
    "env = make_environment('empty', 50, -.1, 1, 1)\n",
    "env.render()"
   ]
  },
  {
   "cell_type": "code",
   "execution_count": null,
   "metadata": {},
   "outputs": [
    {
     "name": "stdout",
     "output_type": "stream",
     "text": [
      "INFO:tensorflow:Summary name Qmax Value is illegal; using Qmax_Value instead.\n",
      "WARNING:tensorflow:Error encountered when serializing data_preprocessing.\n",
      "Type is unsupported, or the types of the items don't match field type in CollectionDef.\n",
      "'NoneType' object has no attribute 'name'\n",
      "WARNING:tensorflow:Error encountered when serializing data_augmentation.\n",
      "Type is unsupported, or the types of the items don't match field type in CollectionDef.\n",
      "'NoneType' object has no attribute 'name'\n",
      "| Reward: -1194 | Episode: 0 | Qmax: 0.2510\n",
      "| Reward: -1699 | Episode: 1 | Qmax: -0.1363\n",
      "| Reward: -964 | Episode: 2 | Qmax: -0.3424\n",
      "| Reward: -7081 | Episode: 3 | Qmax: -0.8699\n",
      "| Reward: -12785 | Episode: 4 | Qmax: -0.4661\n",
      "| Reward: -5842 | Episode: 5 | Qmax: -0.5802\n",
      "| Reward: -437 | Episode: 6 | Qmax: -0.5908\n",
      "| Reward: -1062 | Episode: 7 | Qmax: -0.3307\n",
      "| Reward: -734 | Episode: 8 | Qmax: 0.3673\n",
      "| Reward: -1461 | Episode: 9 | Qmax: 0.9465\n",
      "| Reward: -1859 | Episode: 10 | Qmax: 1.2112\n",
      "| Reward: -495 | Episode: 11 | Qmax: 1.4245\n",
      "| Reward: -680 | Episode: 12 | Qmax: 1.2865\n",
      "| Reward: -1167 | Episode: 13 | Qmax: 0.9338\n",
      "| Reward: -735 | Episode: 14 | Qmax: 0.7829\n",
      "| Reward: -666 | Episode: 15 | Qmax: 0.7028\n"
     ]
    }
   ],
   "source": [
    "# training\n",
    "rewards, qvals = train(sess, env, args, actor, critic, actor_noise)"
   ]
  },
  {
   "cell_type": "code",
   "execution_count": null,
   "metadata": {},
   "outputs": [],
   "source": [
    "env.auv.get_angular_velocity()"
   ]
  },
  {
   "cell_type": "code",
   "execution_count": null,
   "metadata": {},
   "outputs": [],
   "source": [
    "b = 2\n",
    "with b as k:\n",
    "    print(b)"
   ]
  },
  {
   "cell_type": "code",
   "execution_count": null,
   "metadata": {},
   "outputs": [],
   "source": []
  }
 ],
 "metadata": {
  "kernelspec": {
   "display_name": "Python 3",
   "language": "python",
   "name": "python3"
  },
  "language_info": {
   "codemirror_mode": {
    "name": "ipython",
    "version": 3
   },
   "file_extension": ".py",
   "mimetype": "text/x-python",
   "name": "python",
   "nbconvert_exporter": "python",
   "pygments_lexer": "ipython3",
   "version": "3.5.2"
  }
 },
 "nbformat": 4,
 "nbformat_minor": 2
}
