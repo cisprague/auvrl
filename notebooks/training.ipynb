{
 "cells": [
  {
   "cell_type": "code",
   "execution_count": 1,
   "metadata": {},
   "outputs": [],
   "source": [
    "# resources\n",
    "import sys\n",
    "sys.path.append(\"../src\")\n",
    "from auv_gym_env import make_environment\n",
    "import matplotlib.pyplot as plt\n",
    "import numpy as np\n",
    "import time"
   ]
  },
  {
   "cell_type": "markdown",
   "metadata": {},
   "source": [
    "# Milestone 1: no obstacles"
   ]
  },
  {
   "cell_type": "code",
   "execution_count": 18,
   "metadata": {},
   "outputs": [
    {
     "name": "stdout",
     "output_type": "stream",
     "text": [
      "Obstacle conflicts with initialisation.\n"
     ]
    }
   ],
   "source": [
    "# milestone 1\n",
    "env = make_environment('manysmall', 50, -1, 1, 1)\n",
    "env.render()\n",
    "rewards = list()"
   ]
  },
  {
   "cell_type": "code",
   "execution_count": null,
   "metadata": {},
   "outputs": [],
   "source": [
    "start = time.time()\n",
    "for t in range(100):\n",
    "    # full angle and power actuation\n",
    "    obs, rew, done, info = env.step((np.random.uniform(-1, 1), np.random.uniform(-1, 1)))\n",
    "    rewards.append(rew)\n",
    "    env.render()\n",
    "    if done is True:\n",
    "        print(\"Collided\")\n",
    "    else:\n",
    "        print(\"Not collided\")\n",
    "end = time.time()\n",
    "print(str(end - start) + ' seconds')"
   ]
  },
  {
   "cell_type": "code",
   "execution_count": null,
   "metadata": {},
   "outputs": [],
   "source": [
    "env.auv.get_collisions()"
   ]
  },
  {
   "cell_type": "code",
   "execution_count": null,
   "metadata": {},
   "outputs": [],
   "source": [
    "plt.figure()\n",
    "plt.plot(rewards, 'k,')\n",
    "plt.plot(np.divide(np.cumsum(rewards), np.linspace(1, len(rewards), len(rewards))), 'k-')\n",
    "#plt.yscale('log')\n",
    "#plt.xscale('log')\n",
    "plt.show()"
   ]
  },
  {
   "cell_type": "code",
   "execution_count": null,
   "metadata": {},
   "outputs": [],
   "source": [
    "import time\n",
    "\n",
    "start = time.time()\n",
    "print(\"hello\")\n",
    "end = time.time()\n",
    "print(end - start)"
   ]
  }
 ],
 "metadata": {
  "kernelspec": {
   "display_name": "Python 3",
   "language": "python",
   "name": "python3"
  },
  "language_info": {
   "codemirror_mode": {
    "name": "ipython",
    "version": 3
   },
   "file_extension": ".py",
   "mimetype": "text/x-python",
   "name": "python",
   "nbconvert_exporter": "python",
   "pygments_lexer": "ipython3",
   "version": "3.5.2"
  }
 },
 "nbformat": 4,
 "nbformat_minor": 2
}
