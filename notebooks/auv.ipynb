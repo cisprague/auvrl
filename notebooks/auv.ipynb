{
 "cells": [
  {
   "cell_type": "markdown",
   "metadata": {},
   "source": [
    "# Thrust vectored AUV"
   ]
  },
  {
   "cell_type": "markdown",
   "metadata": {},
   "source": [
    "## Extremeley similar to thrust vector rocket landing (a la moda di SpaceX)\n",
    "![](rocket.png)\n",
    "![](equations.png)"
   ]
  },
  {
   "cell_type": "code",
   "execution_count": 1,
   "metadata": {},
   "outputs": [],
   "source": [
    "from sympy import *\n",
    "init_printing()"
   ]
  },
  {
   "cell_type": "code",
   "execution_count": 2,
   "metadata": {},
   "outputs": [
    {
     "name": "stdout",
     "output_type": "stream",
     "text": [
      "\\left[\\begin{matrix}x & y & vx & vy & \\theta & \\omega\\end{matrix}\\right]\n"
     ]
    }
   ],
   "source": [
    "# state\n",
    "x, y, vx, vy, theta, omega = symbols('x y vx vy theta omega', real=True)\n",
    "p = Matrix([x, y])\n",
    "v = Matrix([vx, vy])\n",
    "s = Matrix([p, v, [theta], [omega]])\n",
    "s.T\n",
    "print(latex(s.T))"
   ]
  },
  {
   "cell_type": "code",
   "execution_count": 3,
   "metadata": {},
   "outputs": [
    {
     "data": {
      "text/latex": [
       "$$\\left[\\begin{matrix}\\lambda_{x} & \\lambda_{y} & \\lambda_{v x} & \\lambda_{v y} & \\lambda_{\\theta} & \\lambda_{\\omega}\\end{matrix}\\right]$$"
      ],
      "text/plain": [
       "[λₓ  λ_y  λᵥ ₓ  λ_v_y  λₜₕₑₜₐ  λ_ω]"
      ]
     },
     "execution_count": 3,
     "metadata": {},
     "output_type": "execute_result"
    }
   ],
   "source": [
    "# costate variables\n",
    "# these are just fictitious variables that govern the evolution of the state variables over time\n",
    "# the optimisation problem is to solve to the optimal initial costate variables\n",
    "# to evolve the trajectory optimally (wrt lagrangian) to the boundary conditions (e.g. soft landing)\n",
    "lx, ly, lvx, lvy, ltheta, lomega = symbols('lambda_x lambda_y lambda_v_x lambda_v_y lambda_theta lambda_omega', real=True)\n",
    "lp = Matrix([lx, ly])\n",
    "lv = Matrix([lvx, lvy])\n",
    "l = Matrix([lp, lv, [ltheta], [lomega]])\n",
    "l.T"
   ]
  },
  {
   "cell_type": "code",
   "execution_count": 4,
   "metadata": {},
   "outputs": [
    {
     "data": {
      "text/latex": [
       "$$\\left[\\begin{array}{cccccccccccc}x & y & vx & vy & \\theta & \\omega & \\lambda_{x} & \\lambda_{y} & \\lambda_{v x} & \\lambda_{v y} & \\lambda_{\\theta} & \\lambda_{\\omega}\\end{array}\\right]$$"
      ],
      "text/plain": [
       "[x  y  vx  vy  θ  ω  λₓ  λ_y  λᵥ ₓ  λ_v_y  λₜₕₑₜₐ  λ_ω]"
      ]
     },
     "execution_count": 4,
     "metadata": {},
     "output_type": "execute_result"
    }
   ],
   "source": [
    "# fullstate\n",
    "fs = Matrix([s, l])\n",
    "fs.T"
   ]
  },
  {
   "cell_type": "code",
   "execution_count": 9,
   "metadata": {},
   "outputs": [
    {
     "data": {
      "text/latex": [
       "$$\\left[\\begin{matrix}g & T & m & l & \\rho & C_{d} & A\\end{matrix}\\right]$$"
      ],
      "text/plain": [
       "[g  T  m  l  ρ  C_d  A]"
      ]
     },
     "execution_count": 9,
     "metadata": {},
     "output_type": "execute_result"
    }
   ],
   "source": [
    "# params: gravity, max thrust, mass, half length of auv\n",
    "g, T, m, length, rho, cd, A = symbols('g T m l rho C_d A', real=True, positive=True)\n",
    "params = Matrix([g, T, m, length, rho, cd, A])\n",
    "params.T"
   ]
  },
  {
   "cell_type": "code",
   "execution_count": 10,
   "metadata": {},
   "outputs": [
    {
     "data": {
      "image/png": "[encoded data removed]",
      "text/latex": [
       "$$\\alpha$$"
      ],
      "text/plain": [
       "α"
      ]
     },
     "execution_count": 10,
     "metadata": {},
     "output_type": "execute_result"
    }
   ],
   "source": [
    "# homotopy parameter\n",
    "alpha = symbols('alpha')\n",
    "alpha"
   ]
  },
  {
   "cell_type": "code",
   "execution_count": 11,
   "metadata": {},
   "outputs": [
    {
     "data": {
      "text/latex": [
       "$$\\left[\\begin{matrix}u_{t} & u_{x} & u_{y}\\end{matrix}\\right]$$"
      ],
      "text/plain": [
       "[uₜ  uₓ  u_y]"
      ]
     },
     "execution_count": 11,
     "metadata": {},
     "output_type": "execute_result"
    }
   ],
   "source": [
    "# actions\n",
    "ut = symbols('u_t', real=True, positive=True)\n",
    "ux, uy = symbols('u_x u_y', real=True)\n",
    "u = Matrix([ut, ux, uy])\n",
    "u.T"
   ]
  },
  {
   "cell_type": "code",
   "execution_count": 12,
   "metadata": {},
   "outputs": [],
   "source": [
    "# thrust vector tilt wrt global frame\n",
    "#t = Matrix([cos(theta + phi), sin(theta + phi)])\n",
    "t = Matrix([ux, uy])\n",
    "\n",
    "# rocket orientation wrt horizontal\n",
    "itheta = Matrix([cos(theta), sin(theta)])\n",
    "\n",
    "# perpendicular direction to orientation\n",
    "itau = Matrix([sin(theta), -cos(theta)])"
   ]
  },
  {
   "cell_type": "code",
   "execution_count": 15,
   "metadata": {},
   "outputs": [
    {
     "name": "stdout",
     "output_type": "stream",
     "text": [
      "\\left[\\begin{matrix}vx\\\\vy\\\\\\frac{T u_{x}}{m} u_{t}\\\\\\frac{T u_{y}}{m} u_{t} - g\\\\\\omega\\\\\\frac{6 T u_{t}}{l m} \\left(u_{x} \\sin{\\left (\\theta \\right )} - u_{y} \\cos{\\left (\\theta \\right )}\\right)\\end{matrix}\\right]\n"
     ]
    }
   ],
   "source": [
    "# gravity\n",
    "Fg = Matrix([0, -m*g])\n",
    "\n",
    "# thrust\n",
    "Ft = T*ut*t\n",
    "\n",
    "# fluid drag\n",
    "vinf = v\n",
    "vinfmag = sqrt(sum([var**2 for var in vinf]))\n",
    "#Fd = - Rational(1,2)*rho*vinf*vinfmag*cd*A\n",
    "\n",
    "# dynamics\n",
    "dr = v\n",
    "dv = (Ft + Fg )/m\n",
    "dtheta = omega\n",
    "domega = (12/m/length**2) * T*ut*length/2 * t.dot(itau)\n",
    "ds = Matrix([dr, dv, [dtheta], [domega]])\n",
    "print(latex(simplify(ds)))"
   ]
  },
  {
   "cell_type": "code",
   "execution_count": 16,
   "metadata": {},
   "outputs": [
    {
     "data": {
      "image/png": "[encoded data removed]",
      "text/latex": [
       "$$\\alpha u_{t} + u_{t}^{2} \\left(- \\alpha + 1\\right)$$"
      ],
      "text/plain": [
       "         2         \n",
       "α⋅uₜ + uₜ ⋅(-α + 1)"
      ]
     },
     "execution_count": 16,
     "metadata": {},
     "output_type": "execute_result"
    }
   ],
   "source": [
    "# dynamic Lagrangian to minimise thrust usage\n",
    "L = (1- alpha)*ut**2 + alpha*ut\n",
    "L"
   ]
  },
  {
   "cell_type": "code",
   "execution_count": 17,
   "metadata": {},
   "outputs": [
    {
     "data": {
      "image/png": "[encoded data removed]",
      "text/latex": [
       "$$\\frac{\\lambda_{v x}}{m} T u_{t} u_{x} + \\frac{6 T \\lambda_{\\omega} u_{t}}{l m} \\left(u_{x} \\sin{\\left (\\theta \\right )} - u_{y} \\cos{\\left (\\theta \\right )}\\right) + \\alpha u_{t} + \\lambda_{\\theta} \\omega + \\frac{\\lambda_{v y}}{m} \\left(T u_{t} u_{y} - g m\\right) + \\lambda_{x} vx + \\lambda_{y} vy + u_{t}^{2} \\left(- \\alpha + 1\\right)$$"
      ],
      "text/plain": [
       "T⋅λᵥ ₓ⋅uₜ⋅uₓ   6⋅T⋅λ_ω⋅uₜ⋅(uₓ⋅sin(θ) - u_y⋅cos(θ))                     λ_v_y⋅(\n",
       "──────────── + ─────────────────────────────────── + α⋅uₜ + λₜₕₑₜₐ⋅ω + ───────\n",
       "     m                         l⋅m                                            \n",
       "\n",
       "T⋅uₜ⋅u_y - g⋅m)                      2         \n",
       "─────────────── + λₓ⋅vx + λ_y⋅vy + uₜ ⋅(-α + 1)\n",
       "   m                                           "
      ]
     },
     "execution_count": 17,
     "metadata": {},
     "output_type": "execute_result"
    }
   ],
   "source": [
    "# Hamiltonian\n",
    "H = l.dot(ds) + L\n",
    "H"
   ]
  },
  {
   "cell_type": "code",
   "execution_count": 18,
   "metadata": {},
   "outputs": [
    {
     "data": {
      "text/latex": [
       "$$\\left[\\begin{matrix}- \\frac{l^{2} \\lambda_{v x} + 12 \\lambda_{\\omega} \\sin{\\left (\\theta \\right )}}{\\sqrt{\\left(l^{2} \\lambda_{v x} + 12 \\lambda_{\\omega} \\sin{\\left (\\theta \\right )}\\right)^{2} + \\left(l^{2} \\lambda_{v y} - 12 \\lambda_{\\omega} \\cos{\\left (\\theta \\right )}\\right)^{2}}}\\\\\\frac{- l^{2} \\lambda_{v y} + 12 \\lambda_{\\omega} \\cos{\\left (\\theta \\right )}}{\\sqrt{\\left(l^{2} \\lambda_{v x} + 12 \\lambda_{\\omega} \\sin{\\left (\\theta \\right )}\\right)^{2} + \\left(l^{2} \\lambda_{v y} - 12 \\lambda_{\\omega} \\cos{\\left (\\theta \\right )}\\right)^{2}}}\\end{matrix}\\right]$$"
      ],
      "text/plain": [
       "⎡                  ⎛ 2                     ⎞                   ⎤\n",
       "⎢                 -⎝l ⋅λᵥ ₓ + 12⋅λ_ω⋅sin(θ)⎠                   ⎥\n",
       "⎢──────────────────────────────────────────────────────────────⎥\n",
       "⎢    __________________________________________________________⎥\n",
       "⎢   ╱                          2                             2 ⎥\n",
       "⎢  ╱  ⎛ 2                     ⎞    ⎛ 2                      ⎞  ⎥\n",
       "⎢╲╱   ⎝l ⋅λᵥ ₓ + 12⋅λ_ω⋅sin(θ)⎠  + ⎝l ⋅λ_v_y - 12⋅λ_ω⋅cos(θ)⎠  ⎥\n",
       "⎢                                                              ⎥\n",
       "⎢                     2                                        ⎥\n",
       "⎢                  - l ⋅λ_v_y + 12⋅λ_ω⋅cos(θ)                  ⎥\n",
       "⎢──────────────────────────────────────────────────────────────⎥\n",
       "⎢    __________________________________________________________⎥\n",
       "⎢   ╱                          2                             2 ⎥\n",
       "⎢  ╱  ⎛ 2                     ⎞    ⎛ 2                      ⎞  ⎥\n",
       "⎣╲╱   ⎝l ⋅λᵥ ₓ + 12⋅λ_ω⋅sin(θ)⎠  + ⎝l ⋅λ_v_y - 12⋅λ_ω⋅cos(θ)⎠  ⎦"
      ]
     },
     "execution_count": 18,
     "metadata": {},
     "output_type": "execute_result"
    }
   ],
   "source": [
    "# optimal thrust direction\n",
    "laux = (lv + lomega*12/length**2*itau)\n",
    "lauxnorm = sqrt(sum([laux[i]**2 for i in range(len(laux))]))\n",
    "lauxdir = laux/lauxnorm\n",
    "tstar = -lauxdir\n",
    "tstar = simplify(tstar)\n",
    "tstar"
   ]
  },
  {
   "cell_type": "code",
   "execution_count": 19,
   "metadata": {},
   "outputs": [
    {
     "data": {
      "image/png": "[encoded data removed]",
      "text/latex": [
       "$$- \\frac{T \\lambda_{v x} u_{t} \\left(l^{2} \\lambda_{v x} + 12 \\lambda_{\\omega} \\sin{\\left (\\theta \\right )}\\right)}{m \\sqrt{\\left(l^{2} \\lambda_{v x} + 12 \\lambda_{\\omega} \\sin{\\left (\\theta \\right )}\\right)^{2} + \\left(l^{2} \\lambda_{v y} - 12 \\lambda_{\\omega} \\cos{\\left (\\theta \\right )}\\right)^{2}}} + \\frac{6 T \\lambda_{\\omega} u_{t}}{l m} \\left(- \\frac{\\left(l^{2} \\lambda_{v x} + 12 \\lambda_{\\omega} \\sin{\\left (\\theta \\right )}\\right) \\sin{\\left (\\theta \\right )}}{\\sqrt{\\left(l^{2} \\lambda_{v x} + 12 \\lambda_{\\omega} \\sin{\\left (\\theta \\right )}\\right)^{2} + \\left(l^{2} \\lambda_{v y} - 12 \\lambda_{\\omega} \\cos{\\left (\\theta \\right )}\\right)^{2}}} - \\frac{\\left(- l^{2} \\lambda_{v y} + 12 \\lambda_{\\omega} \\cos{\\left (\\theta \\right )}\\right) \\cos{\\left (\\theta \\right )}}{\\sqrt{\\left(l^{2} \\lambda_{v x} + 12 \\lambda_{\\omega} \\sin{\\left (\\theta \\right )}\\right)^{2} + \\left(l^{2} \\lambda_{v y} - 12 \\lambda_{\\omega} \\cos{\\left (\\theta \\right )}\\right)^{2}}}\\right) + \\alpha u_{t} + \\lambda_{\\theta} \\omega + \\frac{\\lambda_{v y}}{m} \\left(\\frac{T u_{t} \\left(- l^{2} \\lambda_{v y} + 12 \\lambda_{\\omega} \\cos{\\left (\\theta \\right )}\\right)}{\\sqrt{\\left(l^{2} \\lambda_{v x} + 12 \\lambda_{\\omega} \\sin{\\left (\\theta \\right )}\\right)^{2} + \\left(l^{2} \\lambda_{v y} - 12 \\lambda_{\\omega} \\cos{\\left (\\theta \\right )}\\right)^{2}}} - g m\\right) + \\lambda_{x} vx + \\lambda_{y} vy + u_{t}^{2} \\left(- \\alpha + 1\\right)$$"
      ],
      "text/plain": [
       "                                                                              \n",
       "                                                                              \n",
       "                                                                     6⋅T⋅λ_ω⋅u\n",
       "                                                                              \n",
       "                                                                              \n",
       "                          ⎛ 2                     ⎞                           \n",
       "                T⋅λᵥ ₓ⋅uₜ⋅⎝l ⋅λᵥ ₓ + 12⋅λ_ω⋅sin(θ)⎠                           \n",
       "- ──────────────────────────────────────────────────────────────── + ─────────\n",
       "        __________________________________________________________            \n",
       "       ╱                          2                             2             \n",
       "      ╱  ⎛ 2                     ⎞    ⎛ 2                      ⎞              \n",
       "  m⋅╲╱   ⎝l ⋅λᵥ ₓ + 12⋅λ_ω⋅sin(θ)⎠  + ⎝l ⋅λ_v_y - 12⋅λ_ω⋅cos(θ)⎠              \n",
       "\n",
       "  ⎛                 ⎛ 2                     ⎞                                 \n",
       "  ⎜                 ⎝l ⋅λᵥ ₓ + 12⋅λ_ω⋅sin(θ)⎠⋅sin(θ)                          \n",
       "ₜ⋅⎜- ────────────────────────────────────────────────────────────── - ────────\n",
       "  ⎜      __________________________________________________________       ____\n",
       "  ⎜     ╱                          2                             2       ╱    \n",
       "  ⎜    ╱  ⎛ 2                     ⎞    ⎛ 2                      ⎞       ╱  ⎛ 2\n",
       "  ⎝  ╲╱   ⎝l ⋅λᵥ ₓ + 12⋅λ_ω⋅sin(θ)⎠  + ⎝l ⋅λ_v_y - 12⋅λ_ω⋅cos(θ)⎠     ╲╱   ⎝l \n",
       "──────────────────────────────────────────────────────────────────────────────\n",
       "                                                            l⋅m               \n",
       "                                                                              \n",
       "                                                                              \n",
       "                                                                              \n",
       "\n",
       "     ⎛   2                      ⎞                     ⎞                       \n",
       "     ⎝- l ⋅λ_v_y + 12⋅λ_ω⋅cos(θ)⎠⋅cos(θ)              ⎟                       \n",
       "──────────────────────────────────────────────────────⎟                     λ_\n",
       "______________________________________________________⎟                       \n",
       "                      2                             2 ⎟                       \n",
       "                     ⎞    ⎛ 2                      ⎞  ⎟                       \n",
       "⋅λᵥ ₓ + 12⋅λ_ω⋅sin(θ)⎠  + ⎝l ⋅λ_v_y - 12⋅λ_ω⋅cos(θ)⎠  ⎠                       \n",
       "─────────────────────────────────────────────────────── + α⋅uₜ + λₜₕₑₜₐ⋅ω + ──\n",
       "                                                                              \n",
       "                                                                              \n",
       "                                                                              \n",
       "                                                                              \n",
       "\n",
       "    ⎛                   ⎛   2                      ⎞                     ⎞    \n",
       "    ⎜              T⋅uₜ⋅⎝- l ⋅λ_v_y + 12⋅λ_ω⋅cos(θ)⎠                     ⎟    \n",
       "v_y⋅⎜────────────────────────────────────────────────────────────── - g⋅m⎟    \n",
       "    ⎜    __________________________________________________________      ⎟    \n",
       "    ⎜   ╱                          2                             2       ⎟    \n",
       "    ⎜  ╱  ⎛ 2                     ⎞    ⎛ 2                      ⎞        ⎟    \n",
       "    ⎝╲╱   ⎝l ⋅λᵥ ₓ + 12⋅λ_ω⋅sin(θ)⎠  + ⎝l ⋅λ_v_y - 12⋅λ_ω⋅cos(θ)⎠        ⎠    \n",
       "────────────────────────────────────────────────────────────────────────── + λ\n",
       "                                   m                                          \n",
       "                                                                              \n",
       "                                                                              \n",
       "                                                                              \n",
       "\n",
       "                            \n",
       "                            \n",
       "                            \n",
       "                            \n",
       "                            \n",
       "                            \n",
       "                  2         \n",
       "ₓ⋅vx + λ_y⋅vy + uₜ ⋅(-α + 1)\n",
       "                            \n",
       "                            \n",
       "                            \n",
       "                            "
      ]
     },
     "execution_count": 19,
     "metadata": {},
     "output_type": "execute_result"
    }
   ],
   "source": [
    "# new Hamiltonian with optimal thrust direction\n",
    "Fgs = Matrix([0, -m*g])\n",
    "Fts = T*ut*tstar\n",
    "vinfs = v\n",
    "vinfmags = sqrt(sum([var**2 for var in vinf]))\n",
    "Fds = - Rational(1,2)*rho*vinf*vinfmag*cd*A\n",
    "drs = v\n",
    "dvs = (Fts + Fgs)/m\n",
    "dthetas = omega\n",
    "domegas = (12/m/length**2) * T*ut*length/2 * tstar.dot(itau)\n",
    "dss = Matrix([drs, dvs, [dthetas], [domegas]])\n",
    "Hs = l.dot(dss) + L\n",
    "Hs"
   ]
  },
  {
   "cell_type": "code",
   "execution_count": 20,
   "metadata": {},
   "outputs": [
    {
     "data": {
      "image/png": "[encoded data removed]",
      "text/latex": [
       "$$\\frac{1}{2 l m \\left(\\alpha \\left(l^{2} \\lambda_{v x} + 12 \\lambda_{\\omega} \\sin{\\left (\\theta \\right )}\\right)^{2} + \\alpha \\left(l^{2} \\lambda_{v y} - 12 \\lambda_{\\omega} \\cos{\\left (\\theta \\right )}\\right)^{2} - \\left(l^{2} \\lambda_{v x} + 12 \\lambda_{\\omega} \\sin{\\left (\\theta \\right )}\\right)^{2} - \\left(l^{2} \\lambda_{v y} - 12 \\lambda_{\\omega} \\cos{\\left (\\theta \\right )}\\right)^{2}\\right)} \\left(- T l^{3} \\lambda_{v x}^{2} \\sqrt{l^{4} \\lambda_{v x}^{2} + l^{4} \\lambda_{v y}^{2} + 24 l^{2} \\lambda_{\\omega} \\lambda_{v x} \\sin{\\left (\\theta \\right )} - 24 l^{2} \\lambda_{\\omega} \\lambda_{v y} \\cos{\\left (\\theta \\right )} + 144 \\lambda_{\\omega}^{2}} - T l^{3} \\lambda_{v y}^{2} \\sqrt{l^{4} \\lambda_{v x}^{2} + l^{4} \\lambda_{v y}^{2} + 24 l^{2} \\lambda_{\\omega} \\lambda_{v x} \\sin{\\left (\\theta \\right )} - 24 l^{2} \\lambda_{\\omega} \\lambda_{v y} \\cos{\\left (\\theta \\right )} + 144 \\lambda_{\\omega}^{2}} - 6 T l^{2} \\lambda_{\\omega} \\lambda_{v x} \\sqrt{l^{4} \\lambda_{v x}^{2} + l^{4} \\lambda_{v y}^{2} + 24 l^{2} \\lambda_{\\omega} \\lambda_{v x} \\sin{\\left (\\theta \\right )} - 24 l^{2} \\lambda_{\\omega} \\lambda_{v y} \\cos{\\left (\\theta \\right )} + 144 \\lambda_{\\omega}^{2}} \\sin{\\left (\\theta \\right )} + 6 T l^{2} \\lambda_{\\omega} \\lambda_{v y} \\sqrt{l^{4} \\lambda_{v x}^{2} + l^{4} \\lambda_{v y}^{2} + 24 l^{2} \\lambda_{\\omega} \\lambda_{v x} \\sin{\\left (\\theta \\right )} - 24 l^{2} \\lambda_{\\omega} \\lambda_{v y} \\cos{\\left (\\theta \\right )} + 144 \\lambda_{\\omega}^{2}} \\cos{\\left (\\theta \\right )} - 12 T l \\lambda_{\\omega} \\lambda_{v x} \\sqrt{l^{4} \\lambda_{v x}^{2} + l^{4} \\lambda_{v y}^{2} + 24 l^{2} \\lambda_{\\omega} \\lambda_{v x} \\sin{\\left (\\theta \\right )} - 24 l^{2} \\lambda_{\\omega} \\lambda_{v y} \\cos{\\left (\\theta \\right )} + 144 \\lambda_{\\omega}^{2}} \\sin{\\left (\\theta \\right )} + 12 T l \\lambda_{\\omega} \\lambda_{v y} \\sqrt{l^{4} \\lambda_{v x}^{2} + l^{4} \\lambda_{v y}^{2} + 24 l^{2} \\lambda_{\\omega} \\lambda_{v x} \\sin{\\left (\\theta \\right )} - 24 l^{2} \\lambda_{\\omega} \\lambda_{v y} \\cos{\\left (\\theta \\right )} + 144 \\lambda_{\\omega}^{2}} \\cos{\\left (\\theta \\right )} - 72 T \\lambda_{\\omega}^{2} \\sqrt{l^{4} \\lambda_{v x}^{2} + l^{4} \\lambda_{v y}^{2} + 24 l^{2} \\lambda_{\\omega} \\lambda_{v x} \\sin{\\left (\\theta \\right )} - 24 l^{2} \\lambda_{\\omega} \\lambda_{v y} \\cos{\\left (\\theta \\right )} + 144 \\lambda_{\\omega}^{2}} + \\alpha l^{5} \\lambda_{v x}^{2} m + \\alpha l^{5} \\lambda_{v y}^{2} m + 24 \\alpha l^{3} \\lambda_{\\omega} \\lambda_{v x} m \\sin{\\left (\\theta \\right )} - 24 \\alpha l^{3} \\lambda_{\\omega} \\lambda_{v y} m \\cos{\\left (\\theta \\right )} + 144 \\alpha l \\lambda_{\\omega}^{2} m\\right)$$"
      ],
      "text/plain": [
       "                ______________________________________________________________\n",
       "     3     2   ╱  4     2    4      2       2                       2         \n",
       "- T⋅l ⋅λᵥ ₓ ⋅╲╱  l ⋅λᵥ ₓ  + l ⋅λ_v_y  + 24⋅l ⋅λ_ω⋅λᵥ ₓ⋅sin(θ) - 24⋅l ⋅λ_ω⋅λ_v_\n",
       "──────────────────────────────────────────────────────────────────────────────\n",
       "                                                                              \n",
       "                                                                              \n",
       "                                                                              \n",
       "\n",
       "____________________                  ________________________________________\n",
       "                  2       3      2   ╱  4     2    4      2       2           \n",
       "y⋅cos(θ) + 144⋅λ_ω   - T⋅l ⋅λ_v_y ⋅╲╱  l ⋅λᵥ ₓ  + l ⋅λ_v_y  + 24⋅l ⋅λ_ω⋅λᵥ ₓ⋅s\n",
       "──────────────────────────────────────────────────────────────────────────────\n",
       "                                                                              \n",
       "                                                                              \n",
       "                                                                              \n",
       "\n",
       "__________________________________________                      ______________\n",
       "            2                           2         2            ╱  4     2    4\n",
       "in(θ) - 24⋅l ⋅λ_ω⋅λ_v_y⋅cos(θ) + 144⋅λ_ω   - 6⋅T⋅l ⋅λ_ω⋅λᵥ ₓ⋅╲╱  l ⋅λᵥ ₓ  + l \n",
       "──────────────────────────────────────────────────────────────────────────────\n",
       "                                                                              \n",
       "                                                                              \n",
       "                                                                              \n",
       "\n",
       "____________________________________________________________________          \n",
       "      2       2                       2                           2           \n",
       "⋅λ_v_y  + 24⋅l ⋅λ_ω⋅λᵥ ₓ⋅sin(θ) - 24⋅l ⋅λ_ω⋅λ_v_y⋅cos(θ) + 144⋅λ_ω  ⋅sin(θ) + \n",
       "──────────────────────────────────────────────────────────────────────────────\n",
       "                                                                              \n",
       "                                                                              \n",
       "                                                                              \n",
       "\n",
       "                    __________________________________________________________\n",
       "     2             ╱  4     2    4      2       2                       2     \n",
       "6⋅T⋅l ⋅λ_ω⋅λ_v_y⋅╲╱  l ⋅λᵥ ₓ  + l ⋅λ_v_y  + 24⋅l ⋅λ_ω⋅λᵥ ₓ⋅sin(θ) - 24⋅l ⋅λ_ω⋅\n",
       "──────────────────────────────────────────────────────────────────────────────\n",
       "                                                      ⎛                       \n",
       "                                                      ⎜  ⎛ 2                  \n",
       "                                                2⋅l⋅m⋅⎝α⋅⎝l ⋅λᵥ ₓ + 12⋅λ_ω⋅sin\n",
       "\n",
       "________________________                             _________________________\n",
       "                      2                             ╱  4     2    4      2    \n",
       "λ_v_y⋅cos(θ) + 144⋅λ_ω  ⋅cos(θ) - 12⋅T⋅l⋅λ_ω⋅λᵥ ₓ⋅╲╱  l ⋅λᵥ ₓ  + l ⋅λ_v_y  + 2\n",
       "──────────────────────────────────────────────────────────────────────────────\n",
       "    2                               2                            2            \n",
       "   ⎞      ⎛ 2                      ⎞    ⎛ 2                     ⎞    ⎛ 2      \n",
       "(θ)⎠  + α⋅⎝l ⋅λ_v_y - 12⋅λ_ω⋅cos(θ)⎠  - ⎝l ⋅λᵥ ₓ + 12⋅λ_ω⋅sin(θ)⎠  - ⎝l ⋅λ_v_y\n",
       "\n",
       "_________________________________________________________                     \n",
       "   2                       2                           2                      \n",
       "4⋅l ⋅λ_ω⋅λᵥ ₓ⋅sin(θ) - 24⋅l ⋅λ_ω⋅λ_v_y⋅cos(θ) + 144⋅λ_ω  ⋅sin(θ) + 12⋅T⋅l⋅λ_ω⋅\n",
       "──────────────────────────────────────────────────────────────────────────────\n",
       "                 2⎞                                                           \n",
       "                ⎞ ⎟                                                           \n",
       " - 12⋅λ_ω⋅cos(θ)⎠ ⎠                                                           \n",
       "\n",
       "         _____________________________________________________________________\n",
       "        ╱  4     2    4      2       2                       2                \n",
       "λ_v_y⋅╲╱  l ⋅λᵥ ₓ  + l ⋅λ_v_y  + 24⋅l ⋅λ_ω⋅λᵥ ₓ⋅sin(θ) - 24⋅l ⋅λ_ω⋅λ_v_y⋅cos(θ\n",
       "──────────────────────────────────────────────────────────────────────────────\n",
       "                                                                              \n",
       "                                                                              \n",
       "                                                                              \n",
       "\n",
       "_____________                       __________________________________________\n",
       "           2                   2   ╱  4     2    4      2       2             \n",
       ") + 144⋅λ_ω  ⋅cos(θ) - 72⋅T⋅λ_ω ⋅╲╱  l ⋅λᵥ ₓ  + l ⋅λ_v_y  + 24⋅l ⋅λ_ω⋅λᵥ ₓ⋅sin\n",
       "──────────────────────────────────────────────────────────────────────────────\n",
       "                                                                              \n",
       "                                                                              \n",
       "                                                                              \n",
       "\n",
       "________________________________________                                      \n",
       "          2                           2       5     2        5      2         \n",
       "(θ) - 24⋅l ⋅λ_ω⋅λ_v_y⋅cos(θ) + 144⋅λ_ω   + α⋅l ⋅λᵥ ₓ ⋅m + α⋅l ⋅λ_v_y ⋅m + 24⋅α\n",
       "──────────────────────────────────────────────────────────────────────────────\n",
       "                                                                              \n",
       "                                                                              \n",
       "                                                                              \n",
       "\n",
       "                                                                   \n",
       "  3                           3                                 2  \n",
       "⋅l ⋅λ_ω⋅λᵥ ₓ⋅m⋅sin(θ) - 24⋅α⋅l ⋅λ_ω⋅λ_v_y⋅m⋅cos(θ) + 144⋅α⋅l⋅λ_ω ⋅m\n",
       "───────────────────────────────────────────────────────────────────\n",
       "                                                                   \n",
       "                                                                   \n",
       "                                                                   "
      ]
     },
     "execution_count": 20,
     "metadata": {},
     "output_type": "execute_result"
    }
   ],
   "source": [
    "# optimal thrust magnitude (unbounded)\n",
    "utstar = solve(Hs.diff(ut), ut)[0]\n",
    "utstar"
   ]
  },
  {
   "cell_type": "code",
   "execution_count": 30,
   "metadata": {},
   "outputs": [
    {
     "data": {
      "image/png": "[encoded data removed]",
      "text/latex": [
       "$$\\left ( \\left [ \\left ( x_{0}, \\quad l^{2}\\right ), \\quad \\left ( x_{1}, \\quad \\lambda_{v x} x_{0}\\right ), \\quad \\left ( x_{2}, \\quad \\sin{\\left (\\theta \\right )}\\right ), \\quad \\left ( x_{3}, \\quad 12 \\lambda_{\\omega}\\right ), \\quad \\left ( x_{4}, \\quad \\left(x_{1} + x_{2} x_{3}\\right)^{2}\\right ), \\quad \\left ( x_{5}, \\quad \\lambda_{v y} x_{0}\\right ), \\quad \\left ( x_{6}, \\quad \\cos{\\left (\\theta \\right )}\\right ), \\quad \\left ( x_{7}, \\quad \\left(- x_{3} x_{6} + x_{5}\\right)^{2}\\right ), \\quad \\left ( x_{8}, \\quad \\lambda_{\\omega}^{2}\\right ), \\quad \\left ( x_{9}, \\quad \\lambda_{v x}^{2}\\right ), \\quad \\left ( x_{10}, \\quad \\alpha l^{5} m\\right ), \\quad \\left ( x_{11}, \\quad \\lambda_{v y}^{2}\\right ), \\quad \\left ( x_{12}, \\quad l^{3}\\right ), \\quad \\left ( x_{13}, \\quad \\alpha m x_{12}\\right ), \\quad \\left ( x_{14}, \\quad l^{4}\\right ), \\quad \\left ( x_{15}, \\quad \\sqrt{24 \\lambda_{\\omega} x_{1} x_{2} - 24 \\lambda_{\\omega} x_{5} x_{6} + x_{11} x_{14} + x_{14} x_{9} + 144 x_{8}}\\right ), \\quad \\left ( x_{16}, \\quad T l x_{15}\\right ), \\quad \\left ( x_{17}, \\quad T x_{12} x_{15}\\right ), \\quad \\left ( x_{18}, \\quad 6 T \\lambda_{\\omega} x_{15}\\right )\\right ], \\quad \\left [ \\frac{1}{2 l m \\left(\\alpha x_{4} + \\alpha x_{7} - x_{4} - x_{7}\\right)} \\left(- 72 T x_{15} x_{8} + 144 \\alpha l m x_{8} + 24 \\lambda_{\\omega} \\lambda_{v x} x_{13} x_{2} - 12 \\lambda_{\\omega} \\lambda_{v x} x_{16} x_{2} - 24 \\lambda_{\\omega} \\lambda_{v y} x_{13} x_{6} + 12 \\lambda_{\\omega} \\lambda_{v y} x_{16} x_{6} - \\lambda_{v x} x_{0} x_{18} x_{2} + \\lambda_{v y} x_{0} x_{18} x_{6} + x_{10} x_{11} + x_{10} x_{9} - x_{11} x_{17} - x_{17} x_{9}\\right)\\right ]\\right )$$"
      ],
      "text/plain": [
       "⎛⎡⎛     2⎞                                             ⎛                2⎞    \n",
       "⎜⎣⎝x₀, l ⎠, (x₁, λᵥ ₓ⋅x₀), (x₂, sin(θ)), (x₃, 12⋅λ_ω), ⎝x₄, (x₁ + x₂⋅x₃) ⎠, (x\n",
       "⎝                                                                             \n",
       "\n",
       "                            ⎛                 2⎞  ⎛       2⎞  ⎛        2⎞  ⎛  \n",
       "₅, λ_v_y⋅x₀), (x₆, cos(θ)), ⎝x₇, (-x₃⋅x₆ + x₅) ⎠, ⎝x₈, λ_ω ⎠, ⎝x₉, λᵥ ₓ ⎠, ⎝x₁\n",
       "                                                                              \n",
       "\n",
       "      5  ⎞  ⎛          2⎞  ⎛      3⎞                  ⎛      4⎞  ⎛       _____\n",
       "₀, α⋅l ⋅m⎠, ⎝x₁₁, λ_v_y ⎠, ⎝x₁₂, l ⎠, (x₁₃, α⋅m⋅x₁₂), ⎝x₁₄, l ⎠, ⎝x₁₅, ╲╱ 24⋅λ\n",
       "                                                                              \n",
       "\n",
       "____________________________________________________⎞                         \n",
       "_ω⋅x₁⋅x₂ - 24⋅λ_ω⋅x₅⋅x₆ + x₁₁⋅x₁₄ + x₁₄⋅x₉ + 144⋅x₈ ⎠, (x₁₆, T⋅l⋅x₁₅), (x₁₇, T\n",
       "                                                                              \n",
       "\n",
       "                             ⎤  ⎡-72⋅T⋅x₁₅⋅x₈ + 144⋅α⋅l⋅m⋅x₈ + 24⋅λ_ω⋅λᵥ ₓ⋅x₁₃\n",
       "⋅x₁₂⋅x₁₅), (x₁₈, 6⋅T⋅λ_ω⋅x₁₅)⎦, ⎢─────────────────────────────────────────────\n",
       "                                ⎣                                             \n",
       "\n",
       "⋅x₂ - 12⋅λ_ω⋅λᵥ ₓ⋅x₁₆⋅x₂ - 24⋅λ_ω⋅λ_v_y⋅x₁₃⋅x₆ + 12⋅λ_ω⋅λ_v_y⋅x₁₆⋅x₆ - λᵥ ₓ⋅x₀\n",
       "──────────────────────────────────────────────────────────────────────────────\n",
       "                                 2⋅l⋅m⋅(α⋅x₄ + α⋅x₇ - x₄ - x₇)                \n",
       "\n",
       "⋅x₁₈⋅x₂ + λ_v_y⋅x₀⋅x₁₈⋅x₆ + x₁₀⋅x₁₁ + x₁₀⋅x₉ - x₁₁⋅x₁₇ - x₁₇⋅x₉⎤⎞\n",
       "───────────────────────────────────────────────────────────────⎥⎟\n",
       "                                                               ⎦⎠"
      ]
     },
     "execution_count": 30,
     "metadata": {},
     "output_type": "execute_result"
    }
   ],
   "source": [
    "cse(simplify(utstar))"
   ]
  },
  {
   "cell_type": "code",
   "execution_count": null,
   "metadata": {},
   "outputs": [],
   "source": [
    "# costate equations of motion\n",
    "dl = -Matrix([H.diff(var) for var in s])\n",
    "\n",
    "# fullstate\n",
    "dfs = Matrix([ds, dl])\n",
    "dfs"
   ]
  },
  {
   "cell_type": "code",
   "execution_count": null,
   "metadata": {},
   "outputs": [],
   "source": [
    "# fullstate Jacobian\n",
    "ddfs = dfs.jacobian(fs)\n",
    "ddfs"
   ]
  },
  {
   "cell_type": "markdown",
   "metadata": {},
   "source": [
    "# Automatic code generation"
   ]
  },
  {
   "cell_type": "code",
   "execution_count": null,
   "metadata": {},
   "outputs": [],
   "source": [
    "from sympy.utilities.codegen import *"
   ]
  },
  {
   "cell_type": "code",
   "execution_count": null,
   "metadata": {},
   "outputs": [],
   "source": [
    "# function names\n",
    "names = [\"lagrangian\", \"hamiltonian\", \"pontryagin\", \"eom_fullstate\", \"eom_fullstate_jac\"]\n",
    "\n",
    "# function expressions\n",
    "funcs = [\n",
    "    Eq(symbols(\"L\"), L),\n",
    "    Eq(symbols(\"H\"), H),\n",
    "    Eq(MatrixSymbol(\"u\", *ustar.shape), ustar),\n",
    "    Eq(MatrixSymbol(\"dfs\", *dfs.shape), dfs),\n",
    "    Eq(MatrixSymbol(\"ddfs\", *ddfs.shape), ddfs)\n",
    "]\n",
    "\n",
    "# function arguments\n",
    "syms = [\n",
    "    [*u, alpha],\n",
    "    [*fs, *u, alpha, *params],\n",
    "    [*fs, alpha, *params],\n",
    "    [*fs, *u, *params],\n",
    "    [*fs, *u, *params]\n",
    "]\n",
    "[sym.append(func.lhs) for sym, func in zip(syms, funcs)]"
   ]
  },
  {
   "cell_type": "code",
   "execution_count": null,
   "metadata": {},
   "outputs": [],
   "source": [
    "# code generator\n",
    "gen = FCodeGen()\n",
    "\n",
    "# create routines\n",
    "routines = [gen.routine(name, func, sym, None) for name, func, sym in zip(names, funcs, syms)]\n",
    "\n",
    "# write routines to file\n",
    "gen.write(routines, \"../src/trajopt/_dynamics\", to_files=True, header=False, empty=True)"
   ]
  },
  {
   "cell_type": "code",
   "execution_count": null,
   "metadata": {},
   "outputs": [],
   "source": [
    "# compile source and create python extension\n",
    "import os\n",
    "os.system(\"cd ../src/trajopt && f2py -c -m _dynamics _dynamics.f90 _dynamics.h\")"
   ]
  },
  {
   "cell_type": "markdown",
   "metadata": {},
   "source": [
    "# Test"
   ]
  },
  {
   "cell_type": "code",
   "execution_count": null,
   "metadata": {},
   "outputs": [],
   "source": [
    "import numpy as np\n",
    "import sys\n",
    "sys.path.append(\"../src/trajopt\")\n",
    "from dynamics import Dynamics\n",
    "from leg import Leg\n",
    "import matplotlib.pyplot as plt\n",
    "%matplotlib"
   ]
  },
  {
   "cell_type": "code",
   "execution_count": null,
   "metadata": {},
   "outputs": [],
   "source": [
    "# instantiate AUV dynamical system\n",
    "sys = Dynamics()"
   ]
  },
  {
   "cell_type": "code",
   "execution_count": null,
   "metadata": {},
   "outputs": [],
   "source": [
    "# instantiate optimal control leg\n",
    "leg = Leg(sys, alpha=0.999, bound=True)"
   ]
  },
  {
   "cell_type": "code",
   "execution_count": null,
   "metadata": {},
   "outputs": [],
   "source": [
    "# arbitrary boundaries\n",
    "t0 = 0\n",
    "s0 = np.array([100, 100, *np.random.randn(4)], dtype=float)\n",
    "l0 = np.random.randn(len(s0))*100\n",
    "tf = 10000\n",
    "sf = np.array([0, 0, 0, 0, 0, 0], dtype=float)"
   ]
  },
  {
   "cell_type": "code",
   "execution_count": null,
   "metadata": {},
   "outputs": [],
   "source": [
    "# set boundaries\n",
    "leg.set(t0, s0, l0, tf, sf)"
   ]
  },
  {
   "cell_type": "code",
   "execution_count": null,
   "metadata": {},
   "outputs": [],
   "source": [
    "# propagate dynamics and measure terminal mismatch\n",
    "leg.mismatch(atol=1e-14, rtol=1e-14)"
   ]
  },
  {
   "cell_type": "code",
   "execution_count": null,
   "metadata": {},
   "outputs": [],
   "source": [
    "leg.plot_traj()\n",
    "leg.plot_states()\n",
    "leg.plot_actions(time=False)\n",
    "plt.show()"
   ]
  },
  {
   "cell_type": "markdown",
   "metadata": {},
   "source": [
    "# Optimisation"
   ]
  },
  {
   "cell_type": "code",
   "execution_count": null,
   "metadata": {},
   "outputs": [],
   "source": [
    "from problem import Problem\n",
    "import pygmo as pg\n",
    "import pygmo_plugins_nonfree as pg7"
   ]
  },
  {
   "cell_type": "code",
   "execution_count": null,
   "metadata": {},
   "outputs": [],
   "source": [
    "# define problem\n",
    "udp = Problem(leg)\n",
    "prob = pg.problem(udp)"
   ]
  },
  {
   "cell_type": "code",
   "execution_count": null,
   "metadata": {},
   "outputs": [],
   "source": [
    "# instantiate algorithm\n",
    "uda = pg7.snopt7(True, \"/usr/lib/libsnopt7_c.so\")\n",
    "uda.set_integer_option(\"Major iterations limit\", 4000)\n",
    "uda.set_integer_option(\"Iterations limit\", 40000)\n",
    "uda.set_numeric_option(\"Major optimality tolerance\", 1e-2)\n",
    "uda.set_numeric_option(\"Major feasibility tolerance\", 1e-8)\n",
    "algo = pg.algorithm(uda)"
   ]
  },
  {
   "cell_type": "code",
   "execution_count": null,
   "metadata": {},
   "outputs": [],
   "source": [
    "# instantiate population\n",
    "pop = pg.population(prob, 1)"
   ]
  },
  {
   "cell_type": "code",
   "execution_count": null,
   "metadata": {},
   "outputs": [],
   "source": [
    "# evolve population\n",
    "pop = algo.evolve(pop)"
   ]
  },
  {
   "cell_type": "code",
   "execution_count": null,
   "metadata": {},
   "outputs": [],
   "source": []
  },
  {
   "cell_type": "code",
   "execution_count": null,
   "metadata": {},
   "outputs": [],
   "source": []
  }
 ],
 "metadata": {
  "kernelspec": {
   "display_name": "Python 3",
   "language": "python",
   "name": "python3"
  },
  "language_info": {
   "codemirror_mode": {
    "name": "ipython",
    "version": 3
   },
   "file_extension": ".py",
   "mimetype": "text/x-python",
   "name": "python",
   "nbconvert_exporter": "python",
   "pygments_lexer": "ipython3",
   "version": "3.5.2"
  }
 },
 "nbformat": 4,
 "nbformat_minor": 2
}
