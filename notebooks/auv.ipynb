{
 "cells": [
  {
   "cell_type": "markdown",
   "metadata": {},
   "source": [
    "# Thrust vectored AUV"
   ]
  },
  {
   "cell_type": "markdown",
   "metadata": {},
   "source": [
    "## Extremeley similar to thrust vector rocket landing (a la moda di SpaceX)\n",
    "![](rocket.png)\n",
    "![](equations.png)"
   ]
  },
  {
   "cell_type": "code",
   "execution_count": 1,
   "metadata": {},
   "outputs": [],
   "source": [
    "from sympy import *\n",
    "init_printing()"
   ]
  },
  {
   "cell_type": "code",
   "execution_count": 2,
   "metadata": {},
   "outputs": [
    {
     "data": {
      "text/latex": [
       "$$\\left[\\begin{matrix}x & y & vx & vy & \\theta & \\omega\\end{matrix}\\right]$$"
      ],
      "text/plain": [
       "[x  y  vx  vy  θ  ω]"
      ]
     },
     "execution_count": 2,
     "metadata": {},
     "output_type": "execute_result"
    }
   ],
   "source": [
    "# state\n",
    "x, y, vx, vy, theta, omega = symbols('x y vx vy theta omega', real=True)\n",
    "p = Matrix([x, y])\n",
    "v = Matrix([vx, vy])\n",
    "s = Matrix([p, v, [theta], [omega]])\n",
    "s.T"
   ]
  },
  {
   "cell_type": "code",
   "execution_count": 3,
   "metadata": {},
   "outputs": [
    {
     "data": {
      "text/latex": [
       "$$\\left[\\begin{matrix}\\lambda_{x} & \\lambda_{y} & \\lambda_{v x} & \\lambda_{v y} & \\lambda_{\\theta} & \\lambda_{\\omega}\\end{matrix}\\right]$$"
      ],
      "text/plain": [
       "[λₓ  λ_y  λᵥ ₓ  λ_v_y  λ_θ  λ_ω]"
      ]
     },
     "execution_count": 3,
     "metadata": {},
     "output_type": "execute_result"
    }
   ],
   "source": [
    "# costate variables\n",
    "lx, ly, lvx, lvy, ltheta, lomega = symbols('lambda_x lambda_y lambda_v_x lambda_v_y lambda_theta lambda_omega', real=True)\n",
    "lp = Matrix([lx, ly])\n",
    "lv = Matrix([lvx, lvy])\n",
    "l = Matrix([lp, lv, [ltheta], [lomega]])\n",
    "l.T"
   ]
  },
  {
   "cell_type": "code",
   "execution_count": 4,
   "metadata": {},
   "outputs": [
    {
     "data": {
      "text/latex": [
       "$$\\left[\\begin{matrix}g & T & m & L & \\alpha & \\rho & C_{d} & A\\end{matrix}\\right]$$"
      ],
      "text/plain": [
       "[g  T  m  L  α  ρ  C_d  A]"
      ]
     },
     "execution_count": 4,
     "metadata": {},
     "output_type": "execute_result"
    }
   ],
   "source": [
    "# params: gravity, max thrust, mass, half length of auv\n",
    "g, T, m, length, alpha, rho, cd, A = symbols('g T m L alpha rho C_d A', real=True, positive=True)\n",
    "params = Matrix([g, T, m, length, alpha, rho, cd, A])\n",
    "params.T"
   ]
  },
  {
   "cell_type": "code",
   "execution_count": 5,
   "metadata": {},
   "outputs": [
    {
     "data": {
      "text/latex": [
       "$$\\left[\\begin{matrix}u & \\phi\\end{matrix}\\right]$$"
      ],
      "text/plain": [
       "[u  φ]"
      ]
     },
     "execution_count": 5,
     "metadata": {},
     "output_type": "execute_result"
    }
   ],
   "source": [
    "# actions\n",
    "u = symbols('u', real=True, positive=True)\n",
    "phi = symbols('phi', real=True)\n",
    "actions = Matrix([u, phi])\n",
    "actions.T"
   ]
  },
  {
   "cell_type": "code",
   "execution_count": 6,
   "metadata": {},
   "outputs": [],
   "source": [
    "# thrust vector tilt wrt global frame\n",
    "t = Matrix([cos(theta + phi), sin(theta + phi)])\n",
    "\n",
    "# rocket orientation wrt horizontal\n",
    "itheta = Matrix([cos(theta), sin(theta)])\n",
    "\n",
    "# perpendicular direction to orientation\n",
    "itau = Matrix([sin(theta), -cos(theta)])"
   ]
  },
  {
   "cell_type": "code",
   "execution_count": 7,
   "metadata": {},
   "outputs": [
    {
     "data": {
      "text/latex": [
       "$$\\left[\\begin{matrix}vx\\\\vy\\\\\\frac{A vx}{2} C_{d} \\rho \\sqrt{vx^{2} + vy^{2}} + T u \\cos{\\left (\\phi + \\theta \\right )}\\\\\\frac{A vy}{2} C_{d} \\rho \\sqrt{vx^{2} + vy^{2}} + T u \\sin{\\left (\\phi + \\theta \\right )} - g\\\\\\omega\\\\\\frac{12 T u}{L^{2} m} \\left(\\sin{\\left (\\theta \\right )} \\cos{\\left (\\phi + \\theta \\right )} - \\sin{\\left (\\phi + \\theta \\right )} \\cos{\\left (\\theta \\right )}\\right)\\end{matrix}\\right]$$"
      ],
      "text/plain": [
       "⎡                      vx                      ⎤\n",
       "⎢                                              ⎥\n",
       "⎢                      vy                      ⎥\n",
       "⎢                                              ⎥\n",
       "⎢                ___________                   ⎥\n",
       "⎢               ╱   2     2                    ⎥\n",
       "⎢  A⋅C_d⋅ρ⋅vx⋅╲╱  vx  + vy                     ⎥\n",
       "⎢  ───────────────────────── + T⋅u⋅cos(φ + θ)  ⎥\n",
       "⎢              2                               ⎥\n",
       "⎢                                              ⎥\n",
       "⎢              ___________                     ⎥\n",
       "⎢             ╱   2     2                      ⎥\n",
       "⎢A⋅C_d⋅ρ⋅vy⋅╲╱  vx  + vy                       ⎥\n",
       "⎢───────────────────────── + T⋅u⋅sin(φ + θ) - g⎥\n",
       "⎢            2                                 ⎥\n",
       "⎢                                              ⎥\n",
       "⎢                      ω                       ⎥\n",
       "⎢                                              ⎥\n",
       "⎢12⋅T⋅u⋅(sin(θ)⋅cos(φ + θ) - sin(φ + θ)⋅cos(θ))⎥\n",
       "⎢──────────────────────────────────────────────⎥\n",
       "⎢                      2                       ⎥\n",
       "⎣                     L ⋅m                     ⎦"
      ]
     },
     "execution_count": 7,
     "metadata": {},
     "output_type": "execute_result"
    }
   ],
   "source": [
    "# dynamics\n",
    "dr = v\n",
    "dv = T*u*t + Matrix([0, -g]) + Rational(1, 2)*rho*sqrt(sum([vec**2 for vec in v]))*v*cd*A\n",
    "dtheta = omega\n",
    "domega = 12*T*u/m/length**2 * t.dot(itau)\n",
    "ds = Matrix([dr, dv, [dtheta], [domega]])\n",
    "ds"
   ]
  },
  {
   "cell_type": "code",
   "execution_count": 8,
   "metadata": {},
   "outputs": [
    {
     "data": {
      "image/png": "[encoded data removed]",
      "text/latex": [
       "$$\\alpha u + u^{2} \\left(- \\alpha + 1\\right)$$"
      ],
      "text/plain": [
       "       2         \n",
       "α⋅u + u ⋅(-α + 1)"
      ]
     },
     "execution_count": 8,
     "metadata": {},
     "output_type": "execute_result"
    }
   ],
   "source": [
    "# dynamic Lagrangian to minimise thrust usage\n",
    "L = (1- alpha)*u**2 + alpha*u\n",
    "L"
   ]
  },
  {
   "cell_type": "code",
   "execution_count": 9,
   "metadata": {},
   "outputs": [
    {
     "data": {
      "image/png": "[encoded data removed]",
      "text/latex": [
       "$$\\alpha u + \\lambda_{\\theta} \\omega + \\lambda_{v x} \\left(\\frac{A vx}{2} C_{d} \\rho \\sqrt{vx^{2} + vy^{2}} + T u \\cos{\\left (\\phi + \\theta \\right )}\\right) + \\lambda_{v y} \\left(\\frac{A vy}{2} C_{d} \\rho \\sqrt{vx^{2} + vy^{2}} + T u \\sin{\\left (\\phi + \\theta \\right )} - g\\right) + \\lambda_{x} vx + \\lambda_{y} vy + u^{2} \\left(- \\alpha + 1\\right) + \\frac{12 T \\lambda_{\\omega} u}{L^{2} m} \\left(\\sin{\\left (\\theta \\right )} \\cos{\\left (\\phi + \\theta \\right )} - \\sin{\\left (\\phi + \\theta \\right )} \\cos{\\left (\\theta \\right )}\\right)$$"
      ],
      "text/plain": [
       "                   ⎛              ___________                 ⎞         ⎛     \n",
       "                   ⎜             ╱   2     2                  ⎟         ⎜     \n",
       "                   ⎜A⋅C_d⋅ρ⋅vx⋅╲╱  vx  + vy                   ⎟         ⎜A⋅C_d\n",
       "α⋅u + λ_θ⋅ω + λᵥ ₓ⋅⎜───────────────────────── + T⋅u⋅cos(φ + θ)⎟ + λ_v_y⋅⎜─────\n",
       "                   ⎝            2                             ⎠         ⎝     \n",
       "                                                                              \n",
       "\n",
       "         ___________                     ⎞                                    \n",
       "        ╱   2     2                      ⎟                                    \n",
       "⋅ρ⋅vy⋅╲╱  vx  + vy                       ⎟                     2            12\n",
       "──────────────────── + T⋅u⋅sin(φ + θ) - g⎟ + λₓ⋅vx + λ_y⋅vy + u ⋅(-α + 1) + ──\n",
       "       2                                 ⎠                                    \n",
       "                                                                              \n",
       "\n",
       "                                                \n",
       "                                                \n",
       "⋅T⋅λ_ω⋅u⋅(sin(θ)⋅cos(φ + θ) - sin(φ + θ)⋅cos(θ))\n",
       "────────────────────────────────────────────────\n",
       "                      2                         \n",
       "                     L ⋅m                       "
      ]
     },
     "execution_count": 9,
     "metadata": {},
     "output_type": "execute_result"
    }
   ],
   "source": [
    "# Hamiltonian\n",
    "H = l.dot(ds) + L\n",
    "H"
   ]
  },
  {
   "cell_type": "code",
   "execution_count": 10,
   "metadata": {},
   "outputs": [
    {
     "data": {
      "text/latex": [
       "$$\\left[\\begin{matrix}- \\frac{L^{2} \\lambda_{v x} + 12 \\lambda_{\\omega} \\sin{\\left (\\theta \\right )}}{\\sqrt{\\left(L^{2} \\lambda_{v x} + 12 \\lambda_{\\omega} \\sin{\\left (\\theta \\right )}\\right)^{2} + \\left(L^{2} \\lambda_{v y} - 12 \\lambda_{\\omega} \\cos{\\left (\\theta \\right )}\\right)^{2}}}\\\\\\frac{- L^{2} \\lambda_{v y} + 12 \\lambda_{\\omega} \\cos{\\left (\\theta \\right )}}{\\sqrt{\\left(L^{2} \\lambda_{v x} + 12 \\lambda_{\\omega} \\sin{\\left (\\theta \\right )}\\right)^{2} + \\left(L^{2} \\lambda_{v y} - 12 \\lambda_{\\omega} \\cos{\\left (\\theta \\right )}\\right)^{2}}}\\end{matrix}\\right]$$"
      ],
      "text/plain": [
       "⎡                  ⎛ 2                     ⎞                   ⎤\n",
       "⎢                 -⎝L ⋅λᵥ ₓ + 12⋅λ_ω⋅sin(θ)⎠                   ⎥\n",
       "⎢──────────────────────────────────────────────────────────────⎥\n",
       "⎢    __________________________________________________________⎥\n",
       "⎢   ╱                          2                             2 ⎥\n",
       "⎢  ╱  ⎛ 2                     ⎞    ⎛ 2                      ⎞  ⎥\n",
       "⎢╲╱   ⎝L ⋅λᵥ ₓ + 12⋅λ_ω⋅sin(θ)⎠  + ⎝L ⋅λ_v_y - 12⋅λ_ω⋅cos(θ)⎠  ⎥\n",
       "⎢                                                              ⎥\n",
       "⎢                     2                                        ⎥\n",
       "⎢                  - L ⋅λ_v_y + 12⋅λ_ω⋅cos(θ)                  ⎥\n",
       "⎢──────────────────────────────────────────────────────────────⎥\n",
       "⎢    __________________________________________________________⎥\n",
       "⎢   ╱                          2                             2 ⎥\n",
       "⎢  ╱  ⎛ 2                     ⎞    ⎛ 2                      ⎞  ⎥\n",
       "⎣╲╱   ⎝L ⋅λᵥ ₓ + 12⋅λ_ω⋅sin(θ)⎠  + ⎝L ⋅λ_v_y - 12⋅λ_ω⋅cos(θ)⎠  ⎦"
      ]
     },
     "execution_count": 10,
     "metadata": {},
     "output_type": "execute_result"
    }
   ],
   "source": [
    "# optimal thrust direction\n",
    "laux = (lv + lomega*12/length**2*itau)\n",
    "lauxnorm = sqrt(sum([laux[i]**2 for i in range(len(laux))]))\n",
    "lauxdir = laux/lauxnorm\n",
    "tstar = -lauxdir\n",
    "tstar = simplify(tstar)\n",
    "tstar"
   ]
  },
  {
   "cell_type": "code",
   "execution_count": 11,
   "metadata": {},
   "outputs": [],
   "source": [
    "# new Hamiltonian with optimal thrust direction\n",
    "drs = v\n",
    "dvs = T*u*t + Matrix([0, -g]) + Rational(1, 2)*rho*sqrt(sum([vec**2 for vec in v]))*v*cd*A\n",
    "dthetas = omega\n",
    "domegas = 12*T*u/m/length**2 * t.dot(itau)\n",
    "dss = Matrix([dr, dv, [dtheta], [domega]])\n",
    "Hstar = l.dot(dss) + L"
   ]
  },
  {
   "cell_type": "code",
   "execution_count": 12,
   "metadata": {},
   "outputs": [
    {
     "data": {
      "image/png": "[encoded data removed]",
      "text/latex": [
       "$$\\frac{1}{2 L^{2} m \\left(\\alpha - 1\\right)} \\left(L^{2} T \\lambda_{v x} m \\cos{\\left (\\phi + \\theta \\right )} + L^{2} T \\lambda_{v y} m \\sin{\\left (\\phi + \\theta \\right )} + L^{2} \\alpha m - 12 T \\lambda_{\\omega} \\sin{\\left (\\phi \\right )}\\right)$$"
      ],
      "text/plain": [
       " 2                        2                         2                      \n",
       "L ⋅T⋅λᵥ ₓ⋅m⋅cos(φ + θ) + L ⋅T⋅λ_v_y⋅m⋅sin(φ + θ) + L ⋅α⋅m - 12⋅T⋅λ_ω⋅sin(φ)\n",
       "───────────────────────────────────────────────────────────────────────────\n",
       "                                  2                                        \n",
       "                               2⋅L ⋅m⋅(α - 1)                              "
      ]
     },
     "execution_count": 12,
     "metadata": {},
     "output_type": "execute_result"
    }
   ],
   "source": [
    "# optimal thrust magnitude (unbounded)\n",
    "ustar = solve(Hstar.diff(u), u)[0]\n",
    "ustar = simplify(ustar)\n",
    "ustar"
   ]
  },
  {
   "cell_type": "code",
   "execution_count": 13,
   "metadata": {},
   "outputs": [
    {
     "data": {
      "text/latex": [
       "$$\\left[\\begin{matrix}vx\\\\vy\\\\\\frac{A vx}{2} C_{d} \\rho \\sqrt{vx^{2} + vy^{2}} + T u \\cos{\\left (\\phi + \\theta \\right )}\\\\\\frac{A vy}{2} C_{d} \\rho \\sqrt{vx^{2} + vy^{2}} + T u \\sin{\\left (\\phi + \\theta \\right )} - g\\\\\\omega\\\\- \\frac{12 T u}{L^{2} m} \\sin{\\left (\\phi \\right )}\\\\0\\\\0\\\\- \\frac{1}{2 \\sqrt{vx^{2} + vy^{2}}} \\left(A C_{d} \\lambda_{v x} \\rho \\left(2 vx^{2} + vy^{2}\\right) + A C_{d} \\lambda_{v y} \\rho vx vy + 2 \\lambda_{x} \\sqrt{vx^{2} + vy^{2}}\\right)\\\\- \\frac{1}{2 \\sqrt{vx^{2} + vy^{2}}} \\left(A C_{d} \\lambda_{v x} \\rho vx vy + A C_{d} \\lambda_{v y} \\rho \\left(vx^{2} + 2 vy^{2}\\right) + 2 \\lambda_{y} \\sqrt{vx^{2} + vy^{2}}\\right)\\\\T u \\left(\\lambda_{v x} \\sin{\\left (\\phi + \\theta \\right )} - \\lambda_{v y} \\cos{\\left (\\phi + \\theta \\right )}\\right)\\\\- \\lambda_{\\theta}\\end{matrix}\\right]$$"
      ],
      "text/plain": [
       "⎡                                    vx                                     ⎤\n",
       "⎢                                                                           ⎥\n",
       "⎢                                    vy                                     ⎥\n",
       "⎢                                                                           ⎥\n",
       "⎢                              ___________                                  ⎥\n",
       "⎢                             ╱   2     2                                   ⎥\n",
       "⎢                A⋅C_d⋅ρ⋅vx⋅╲╱  vx  + vy                                    ⎥\n",
       "⎢                ───────────────────────── + T⋅u⋅cos(φ + θ)                 ⎥\n",
       "⎢                            2                                              ⎥\n",
       "⎢                                                                           ⎥\n",
       "⎢                            ___________                                    ⎥\n",
       "⎢                           ╱   2     2                                     ⎥\n",
       "⎢              A⋅C_d⋅ρ⋅vy⋅╲╱  vx  + vy                                      ⎥\n",
       "⎢              ───────────────────────── + T⋅u⋅sin(φ + θ) - g               ⎥\n",
       "⎢                          2                                                ⎥\n",
       "⎢                                                                           ⎥\n",
       "⎢                                     ω                                     ⎥\n",
       "⎢                                                                           ⎥\n",
       "⎢                              -12⋅T⋅u⋅sin(φ)                               ⎥\n",
       "⎢                              ───────────────                              ⎥\n",
       "⎢                                     2                                     ⎥\n",
       "⎢                                    L ⋅m                                   ⎥\n",
       "⎢                                                                           ⎥\n",
       "⎢                                     0                                     ⎥\n",
       "⎢                                                                           ⎥\n",
       "⎢                                     0                                     ⎥\n",
       "⎢                                                                           ⎥\n",
       "⎢ ⎛                                                           ___________⎞  ⎥\n",
       "⎢ ⎜             ⎛    2     2⎞                                ╱   2     2 ⎟  ⎥\n",
       "⎢-⎝A⋅C_d⋅λᵥ ₓ⋅ρ⋅⎝2⋅vx  + vy ⎠ + A⋅C_d⋅λ_v_y⋅ρ⋅vx⋅vy + 2⋅λₓ⋅╲╱  vx  + vy  ⎠  ⎥\n",
       "⎢────────────────────────────────────────────────────────────────────────── ⎥\n",
       "⎢                                  ___________                              ⎥\n",
       "⎢                                 ╱   2     2                               ⎥\n",
       "⎢                             2⋅╲╱  vx  + vy                                ⎥\n",
       "⎢                                                                           ⎥\n",
       "⎢ ⎛                                                            ___________⎞ ⎥\n",
       "⎢ ⎜                                   ⎛  2       2⎞           ╱   2     2 ⎟ ⎥\n",
       "⎢-⎝A⋅C_d⋅λᵥ ₓ⋅ρ⋅vx⋅vy + A⋅C_d⋅λ_v_y⋅ρ⋅⎝vx  + 2⋅vy ⎠ + 2⋅λ_y⋅╲╱  vx  + vy  ⎠ ⎥\n",
       "⎢───────────────────────────────────────────────────────────────────────────⎥\n",
       "⎢                                   ___________                             ⎥\n",
       "⎢                                  ╱   2     2                              ⎥\n",
       "⎢                              2⋅╲╱  vx  + vy                               ⎥\n",
       "⎢                                                                           ⎥\n",
       "⎢                 T⋅u⋅(λᵥ ₓ⋅sin(φ + θ) - λ_v_y⋅cos(φ + θ))                  ⎥\n",
       "⎢                                                                           ⎥\n",
       "⎣                                   -λ_θ                                    ⎦"
      ]
     },
     "execution_count": 13,
     "metadata": {},
     "output_type": "execute_result"
    }
   ],
   "source": [
    "# costate equations of motion\n",
    "dl = -Matrix([H.diff(var) for var in s])\n",
    "\n",
    "# fullstate\n",
    "dfs = Matrix([ds, dl])\n",
    "dfs = simplify(dfs)\n",
    "dfs"
   ]
  },
  {
   "cell_type": "markdown",
   "metadata": {},
   "source": [
    "# Code"
   ]
  },
  {
   "cell_type": "code",
   "execution_count": 21,
   "metadata": {},
   "outputs": [
    {
     "name": "stdout",
     "output_type": "stream",
     "text": [
      "([(x0, L**2), (x1, 12*lambda_omega), (x2, T*m), (x3, phi + theta), (x4, lambda_v_x*x0 + x1*sin(theta)), (x5, lambda_v_y*x0), (x6, x1*cos(theta)), (x7, 1/sqrt(x4**2 + (x5 - x6)**2))], [(-T*x1*sin(phi) + alpha*m*x0 + lambda_v_x*x0*x2*cos(x3) + lambda_v_y*x0*x2*sin(x3))/(2*m*x0*(alpha - 1)), Matrix([\n",
      "[       -x4*x7],\n",
      "[x7*(-x5 + x6)]])])\n"
     ]
    }
   ],
   "source": [
    "print(cse((ustar, tstar)))"
   ]
  },
  {
   "cell_type": "code",
   "execution_count": 22,
   "metadata": {},
   "outputs": [
    {
     "data": {
      "text/latex": [
       "$$\\left[\\begin{matrix}- \\frac{L^{2} \\lambda_{v x} + 12 \\lambda_{\\omega} \\sin{\\left (\\theta \\right )}}{\\sqrt{\\left(L^{2} \\lambda_{v x} + 12 \\lambda_{\\omega} \\sin{\\left (\\theta \\right )}\\right)^{2} + \\left(L^{2} \\lambda_{v y} - 12 \\lambda_{\\omega} \\cos{\\left (\\theta \\right )}\\right)^{2}}}\\\\\\frac{- L^{2} \\lambda_{v y} + 12 \\lambda_{\\omega} \\cos{\\left (\\theta \\right )}}{\\sqrt{\\left(L^{2} \\lambda_{v x} + 12 \\lambda_{\\omega} \\sin{\\left (\\theta \\right )}\\right)^{2} + \\left(L^{2} \\lambda_{v y} - 12 \\lambda_{\\omega} \\cos{\\left (\\theta \\right )}\\right)^{2}}}\\end{matrix}\\right]$$"
      ],
      "text/plain": [
       "⎡                  ⎛ 2                     ⎞                   ⎤\n",
       "⎢                 -⎝L ⋅λᵥ ₓ + 12⋅λ_ω⋅sin(θ)⎠                   ⎥\n",
       "⎢──────────────────────────────────────────────────────────────⎥\n",
       "⎢    __________________________________________________________⎥\n",
       "⎢   ╱                          2                             2 ⎥\n",
       "⎢  ╱  ⎛ 2                     ⎞    ⎛ 2                      ⎞  ⎥\n",
       "⎢╲╱   ⎝L ⋅λᵥ ₓ + 12⋅λ_ω⋅sin(θ)⎠  + ⎝L ⋅λ_v_y - 12⋅λ_ω⋅cos(θ)⎠  ⎥\n",
       "⎢                                                              ⎥\n",
       "⎢                     2                                        ⎥\n",
       "⎢                  - L ⋅λ_v_y + 12⋅λ_ω⋅cos(θ)                  ⎥\n",
       "⎢──────────────────────────────────────────────────────────────⎥\n",
       "⎢    __________________________________________________________⎥\n",
       "⎢   ╱                          2                             2 ⎥\n",
       "⎢  ╱  ⎛ 2                     ⎞    ⎛ 2                      ⎞  ⎥\n",
       "⎣╲╱   ⎝L ⋅λᵥ ₓ + 12⋅λ_ω⋅sin(θ)⎠  + ⎝L ⋅λ_v_y - 12⋅λ_ω⋅cos(θ)⎠  ⎦"
      ]
     },
     "execution_count": 22,
     "metadata": {},
     "output_type": "execute_result"
    }
   ],
   "source": [
    "tstar"
   ]
  },
  {
   "cell_type": "code",
   "execution_count": null,
   "metadata": {},
   "outputs": [],
   "source": [
    "ds"
   ]
  },
  {
   "cell_type": "code",
   "execution_count": null,
   "metadata": {},
   "outputs": [],
   "source": []
  }
 ],
 "metadata": {
  "kernelspec": {
   "display_name": "Python 2",
   "language": "python",
   "name": "python2"
  },
  "language_info": {
   "codemirror_mode": {
    "name": "ipython",
    "version": 2
   },
   "file_extension": ".py",
   "mimetype": "text/x-python",
   "name": "python",
   "nbconvert_exporter": "python",
   "pygments_lexer": "ipython2",
   "version": "2.7.12"
  }
 },
 "nbformat": 4,
 "nbformat_minor": 2
}
